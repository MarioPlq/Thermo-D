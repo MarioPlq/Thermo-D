{
 "cells": [
  {
   "cell_type": "code",
   "execution_count": 14,
   "id": "f86f3520-214b-4888-a8dd-6e1fac244d64",
   "metadata": {},
   "outputs": [],
   "source": [
    "import CoolProp\n",
    "import cv2\n",
    "import os\n",
    "\n",
    "import matplotlib.pyplot as plt\n",
    "import pandas as pd\n",
    "\n",
    "from CoolProp.CoolProp import PropsSI\n",
    "from CoolProp.Plots import PropertyPlot\n",
    "from CoolProp.Plots import SimpleCompressionCycle"
   ]
  },
  {
   "cell_type": "code",
   "execution_count": 7,
   "id": "38a3b77b-dc63-4456-87c1-9084a6502017",
   "metadata": {},
   "outputs": [],
   "source": [
    "%matplotlib inline"
   ]
  },
  {
   "cell_type": "code",
   "execution_count": 6,
   "id": "124adb40-a49c-458d-9297-0088c9e580a0",
   "metadata": {},
   "outputs": [],
   "source": [
    "cycle = pd.read_csv('cycle.csv', parse_dates=True, index_col='Unnamed: 0')"
   ]
  },
  {
   "cell_type": "code",
   "execution_count": 12,
   "id": "81d95c74-c545-4e0c-a2e0-ab48831e1c74",
   "metadata": {
    "scrolled": true
   },
   "outputs": [
    {
     "name": "stdout",
     "output_type": "stream",
     "text": [
      "2023-12-01 00:00:00 2023-12-08 14:00:00\n"
     ]
    },
    {
     "name": "stderr",
     "output_type": "stream",
     "text": [
      "C:\\Users\\mario\\anaconda_v3\\Lib\\site-packages\\CoolProp\\Plots\\Common.py:608: UserWarning: Please use \"calc_sat_range\" to calculate saturation and isoquality lines. Input ranges are discarded.\n",
      "  warnings.warn(\n",
      "C:\\Users\\mario\\anaconda_v3\\Lib\\site-packages\\CoolProp\\Plots\\Plots.py:217: UserWarning: Detected an incomplete phase envelope, fixing it numerically.\n",
      "  warnings.warn(\"Detected an incomplete phase envelope, fixing it numerically.\")\n"
     ]
    },
    {
     "name": "stdout",
     "output_type": "stream",
     "text": [
      "2023-12-01 01:00:00 2023-12-08 14:00:00\n"
     ]
    },
    {
     "name": "stderr",
     "output_type": "stream",
     "text": [
      "C:\\Users\\mario\\anaconda_v3\\Lib\\site-packages\\CoolProp\\Plots\\Common.py:608: UserWarning: Please use \"calc_sat_range\" to calculate saturation and isoquality lines. Input ranges are discarded.\n",
      "  warnings.warn(\n",
      "C:\\Users\\mario\\anaconda_v3\\Lib\\site-packages\\CoolProp\\Plots\\Plots.py:217: UserWarning: Detected an incomplete phase envelope, fixing it numerically.\n",
      "  warnings.warn(\"Detected an incomplete phase envelope, fixing it numerically.\")\n"
     ]
    },
    {
     "name": "stdout",
     "output_type": "stream",
     "text": [
      "2023-12-01 02:00:00 2023-12-08 14:00:00\n"
     ]
    },
    {
     "name": "stderr",
     "output_type": "stream",
     "text": [
      "C:\\Users\\mario\\anaconda_v3\\Lib\\site-packages\\CoolProp\\Plots\\Common.py:608: UserWarning: Please use \"calc_sat_range\" to calculate saturation and isoquality lines. Input ranges are discarded.\n",
      "  warnings.warn(\n",
      "C:\\Users\\mario\\anaconda_v3\\Lib\\site-packages\\CoolProp\\Plots\\Plots.py:217: UserWarning: Detected an incomplete phase envelope, fixing it numerically.\n",
      "  warnings.warn(\"Detected an incomplete phase envelope, fixing it numerically.\")\n"
     ]
    },
    {
     "name": "stdout",
     "output_type": "stream",
     "text": [
      "2023-12-01 03:00:00 2023-12-08 14:00:00\n"
     ]
    },
    {
     "name": "stderr",
     "output_type": "stream",
     "text": [
      "C:\\Users\\mario\\anaconda_v3\\Lib\\site-packages\\CoolProp\\Plots\\Common.py:608: UserWarning: Please use \"calc_sat_range\" to calculate saturation and isoquality lines. Input ranges are discarded.\n",
      "  warnings.warn(\n",
      "C:\\Users\\mario\\anaconda_v3\\Lib\\site-packages\\CoolProp\\Plots\\Plots.py:217: UserWarning: Detected an incomplete phase envelope, fixing it numerically.\n",
      "  warnings.warn(\"Detected an incomplete phase envelope, fixing it numerically.\")\n"
     ]
    },
    {
     "name": "stdout",
     "output_type": "stream",
     "text": [
      "2023-12-01 04:00:00 2023-12-08 14:00:00\n"
     ]
    },
    {
     "name": "stderr",
     "output_type": "stream",
     "text": [
      "C:\\Users\\mario\\anaconda_v3\\Lib\\site-packages\\CoolProp\\Plots\\Common.py:608: UserWarning: Please use \"calc_sat_range\" to calculate saturation and isoquality lines. Input ranges are discarded.\n",
      "  warnings.warn(\n",
      "C:\\Users\\mario\\anaconda_v3\\Lib\\site-packages\\CoolProp\\Plots\\Plots.py:217: UserWarning: Detected an incomplete phase envelope, fixing it numerically.\n",
      "  warnings.warn(\"Detected an incomplete phase envelope, fixing it numerically.\")\n"
     ]
    },
    {
     "name": "stdout",
     "output_type": "stream",
     "text": [
      "2023-12-01 05:00:00 2023-12-08 14:00:00\n"
     ]
    },
    {
     "name": "stderr",
     "output_type": "stream",
     "text": [
      "C:\\Users\\mario\\anaconda_v3\\Lib\\site-packages\\CoolProp\\Plots\\Common.py:608: UserWarning: Please use \"calc_sat_range\" to calculate saturation and isoquality lines. Input ranges are discarded.\n",
      "  warnings.warn(\n",
      "C:\\Users\\mario\\anaconda_v3\\Lib\\site-packages\\CoolProp\\Plots\\Plots.py:217: UserWarning: Detected an incomplete phase envelope, fixing it numerically.\n",
      "  warnings.warn(\"Detected an incomplete phase envelope, fixing it numerically.\")\n"
     ]
    },
    {
     "name": "stdout",
     "output_type": "stream",
     "text": [
      "2023-12-01 06:00:00 2023-12-08 14:00:00\n"
     ]
    },
    {
     "name": "stderr",
     "output_type": "stream",
     "text": [
      "C:\\Users\\mario\\anaconda_v3\\Lib\\site-packages\\CoolProp\\Plots\\Common.py:608: UserWarning: Please use \"calc_sat_range\" to calculate saturation and isoquality lines. Input ranges are discarded.\n",
      "  warnings.warn(\n",
      "C:\\Users\\mario\\anaconda_v3\\Lib\\site-packages\\CoolProp\\Plots\\Plots.py:217: UserWarning: Detected an incomplete phase envelope, fixing it numerically.\n",
      "  warnings.warn(\"Detected an incomplete phase envelope, fixing it numerically.\")\n"
     ]
    },
    {
     "name": "stdout",
     "output_type": "stream",
     "text": [
      "2023-12-01 07:00:00 2023-12-08 14:00:00\n"
     ]
    },
    {
     "name": "stderr",
     "output_type": "stream",
     "text": [
      "C:\\Users\\mario\\anaconda_v3\\Lib\\site-packages\\CoolProp\\Plots\\Common.py:608: UserWarning: Please use \"calc_sat_range\" to calculate saturation and isoquality lines. Input ranges are discarded.\n",
      "  warnings.warn(\n",
      "C:\\Users\\mario\\anaconda_v3\\Lib\\site-packages\\CoolProp\\Plots\\Plots.py:217: UserWarning: Detected an incomplete phase envelope, fixing it numerically.\n",
      "  warnings.warn(\"Detected an incomplete phase envelope, fixing it numerically.\")\n"
     ]
    },
    {
     "name": "stdout",
     "output_type": "stream",
     "text": [
      "2023-12-01 08:00:00 2023-12-08 14:00:00\n"
     ]
    },
    {
     "name": "stderr",
     "output_type": "stream",
     "text": [
      "C:\\Users\\mario\\anaconda_v3\\Lib\\site-packages\\CoolProp\\Plots\\Common.py:608: UserWarning: Please use \"calc_sat_range\" to calculate saturation and isoquality lines. Input ranges are discarded.\n",
      "  warnings.warn(\n",
      "C:\\Users\\mario\\anaconda_v3\\Lib\\site-packages\\CoolProp\\Plots\\Plots.py:217: UserWarning: Detected an incomplete phase envelope, fixing it numerically.\n",
      "  warnings.warn(\"Detected an incomplete phase envelope, fixing it numerically.\")\n"
     ]
    },
    {
     "name": "stdout",
     "output_type": "stream",
     "text": [
      "2023-12-01 09:00:00 2023-12-08 14:00:00\n"
     ]
    },
    {
     "name": "stderr",
     "output_type": "stream",
     "text": [
      "C:\\Users\\mario\\anaconda_v3\\Lib\\site-packages\\CoolProp\\Plots\\Common.py:608: UserWarning: Please use \"calc_sat_range\" to calculate saturation and isoquality lines. Input ranges are discarded.\n",
      "  warnings.warn(\n",
      "C:\\Users\\mario\\anaconda_v3\\Lib\\site-packages\\CoolProp\\Plots\\Plots.py:217: UserWarning: Detected an incomplete phase envelope, fixing it numerically.\n",
      "  warnings.warn(\"Detected an incomplete phase envelope, fixing it numerically.\")\n"
     ]
    },
    {
     "name": "stdout",
     "output_type": "stream",
     "text": [
      "2023-12-01 10:00:00 2023-12-08 14:00:00\n"
     ]
    },
    {
     "name": "stderr",
     "output_type": "stream",
     "text": [
      "C:\\Users\\mario\\anaconda_v3\\Lib\\site-packages\\CoolProp\\Plots\\Common.py:608: UserWarning: Please use \"calc_sat_range\" to calculate saturation and isoquality lines. Input ranges are discarded.\n",
      "  warnings.warn(\n",
      "C:\\Users\\mario\\anaconda_v3\\Lib\\site-packages\\CoolProp\\Plots\\Plots.py:217: UserWarning: Detected an incomplete phase envelope, fixing it numerically.\n",
      "  warnings.warn(\"Detected an incomplete phase envelope, fixing it numerically.\")\n"
     ]
    },
    {
     "name": "stdout",
     "output_type": "stream",
     "text": [
      "2023-12-01 11:00:00 2023-12-08 14:00:00\n"
     ]
    },
    {
     "name": "stderr",
     "output_type": "stream",
     "text": [
      "C:\\Users\\mario\\anaconda_v3\\Lib\\site-packages\\CoolProp\\Plots\\Common.py:608: UserWarning: Please use \"calc_sat_range\" to calculate saturation and isoquality lines. Input ranges are discarded.\n",
      "  warnings.warn(\n",
      "C:\\Users\\mario\\anaconda_v3\\Lib\\site-packages\\CoolProp\\Plots\\Plots.py:217: UserWarning: Detected an incomplete phase envelope, fixing it numerically.\n",
      "  warnings.warn(\"Detected an incomplete phase envelope, fixing it numerically.\")\n"
     ]
    },
    {
     "name": "stdout",
     "output_type": "stream",
     "text": [
      "2023-12-01 12:00:00 2023-12-08 14:00:00\n"
     ]
    },
    {
     "name": "stderr",
     "output_type": "stream",
     "text": [
      "C:\\Users\\mario\\anaconda_v3\\Lib\\site-packages\\CoolProp\\Plots\\Common.py:608: UserWarning: Please use \"calc_sat_range\" to calculate saturation and isoquality lines. Input ranges are discarded.\n",
      "  warnings.warn(\n",
      "C:\\Users\\mario\\anaconda_v3\\Lib\\site-packages\\CoolProp\\Plots\\Plots.py:217: UserWarning: Detected an incomplete phase envelope, fixing it numerically.\n",
      "  warnings.warn(\"Detected an incomplete phase envelope, fixing it numerically.\")\n"
     ]
    },
    {
     "name": "stdout",
     "output_type": "stream",
     "text": [
      "2023-12-01 13:00:00 2023-12-08 14:00:00\n"
     ]
    },
    {
     "name": "stderr",
     "output_type": "stream",
     "text": [
      "C:\\Users\\mario\\anaconda_v3\\Lib\\site-packages\\CoolProp\\Plots\\Common.py:608: UserWarning: Please use \"calc_sat_range\" to calculate saturation and isoquality lines. Input ranges are discarded.\n",
      "  warnings.warn(\n",
      "C:\\Users\\mario\\anaconda_v3\\Lib\\site-packages\\CoolProp\\Plots\\Plots.py:217: UserWarning: Detected an incomplete phase envelope, fixing it numerically.\n",
      "  warnings.warn(\"Detected an incomplete phase envelope, fixing it numerically.\")\n"
     ]
    },
    {
     "name": "stdout",
     "output_type": "stream",
     "text": [
      "2023-12-01 14:00:00 2023-12-08 14:00:00\n"
     ]
    },
    {
     "name": "stderr",
     "output_type": "stream",
     "text": [
      "C:\\Users\\mario\\anaconda_v3\\Lib\\site-packages\\CoolProp\\Plots\\Common.py:608: UserWarning: Please use \"calc_sat_range\" to calculate saturation and isoquality lines. Input ranges are discarded.\n",
      "  warnings.warn(\n",
      "C:\\Users\\mario\\anaconda_v3\\Lib\\site-packages\\CoolProp\\Plots\\Plots.py:217: UserWarning: Detected an incomplete phase envelope, fixing it numerically.\n",
      "  warnings.warn(\"Detected an incomplete phase envelope, fixing it numerically.\")\n"
     ]
    },
    {
     "name": "stdout",
     "output_type": "stream",
     "text": [
      "2023-12-01 15:00:00 2023-12-08 14:00:00\n"
     ]
    },
    {
     "name": "stderr",
     "output_type": "stream",
     "text": [
      "C:\\Users\\mario\\anaconda_v3\\Lib\\site-packages\\CoolProp\\Plots\\Common.py:608: UserWarning: Please use \"calc_sat_range\" to calculate saturation and isoquality lines. Input ranges are discarded.\n",
      "  warnings.warn(\n",
      "C:\\Users\\mario\\anaconda_v3\\Lib\\site-packages\\CoolProp\\Plots\\Plots.py:217: UserWarning: Detected an incomplete phase envelope, fixing it numerically.\n",
      "  warnings.warn(\"Detected an incomplete phase envelope, fixing it numerically.\")\n"
     ]
    },
    {
     "name": "stdout",
     "output_type": "stream",
     "text": [
      "2023-12-01 16:00:00 2023-12-08 14:00:00\n"
     ]
    },
    {
     "name": "stderr",
     "output_type": "stream",
     "text": [
      "C:\\Users\\mario\\anaconda_v3\\Lib\\site-packages\\CoolProp\\Plots\\Common.py:608: UserWarning: Please use \"calc_sat_range\" to calculate saturation and isoquality lines. Input ranges are discarded.\n",
      "  warnings.warn(\n",
      "C:\\Users\\mario\\anaconda_v3\\Lib\\site-packages\\CoolProp\\Plots\\Plots.py:217: UserWarning: Detected an incomplete phase envelope, fixing it numerically.\n",
      "  warnings.warn(\"Detected an incomplete phase envelope, fixing it numerically.\")\n"
     ]
    },
    {
     "name": "stdout",
     "output_type": "stream",
     "text": [
      "2023-12-01 17:00:00 2023-12-08 14:00:00\n"
     ]
    },
    {
     "name": "stderr",
     "output_type": "stream",
     "text": [
      "C:\\Users\\mario\\anaconda_v3\\Lib\\site-packages\\CoolProp\\Plots\\Common.py:608: UserWarning: Please use \"calc_sat_range\" to calculate saturation and isoquality lines. Input ranges are discarded.\n",
      "  warnings.warn(\n",
      "C:\\Users\\mario\\anaconda_v3\\Lib\\site-packages\\CoolProp\\Plots\\Plots.py:217: UserWarning: Detected an incomplete phase envelope, fixing it numerically.\n",
      "  warnings.warn(\"Detected an incomplete phase envelope, fixing it numerically.\")\n"
     ]
    },
    {
     "name": "stdout",
     "output_type": "stream",
     "text": [
      "2023-12-01 18:00:00 2023-12-08 14:00:00\n"
     ]
    },
    {
     "name": "stderr",
     "output_type": "stream",
     "text": [
      "C:\\Users\\mario\\anaconda_v3\\Lib\\site-packages\\CoolProp\\Plots\\Common.py:608: UserWarning: Please use \"calc_sat_range\" to calculate saturation and isoquality lines. Input ranges are discarded.\n",
      "  warnings.warn(\n",
      "C:\\Users\\mario\\anaconda_v3\\Lib\\site-packages\\CoolProp\\Plots\\Plots.py:217: UserWarning: Detected an incomplete phase envelope, fixing it numerically.\n",
      "  warnings.warn(\"Detected an incomplete phase envelope, fixing it numerically.\")\n"
     ]
    },
    {
     "name": "stdout",
     "output_type": "stream",
     "text": [
      "2023-12-01 19:00:00 2023-12-08 14:00:00\n"
     ]
    },
    {
     "name": "stderr",
     "output_type": "stream",
     "text": [
      "C:\\Users\\mario\\anaconda_v3\\Lib\\site-packages\\CoolProp\\Plots\\Common.py:608: UserWarning: Please use \"calc_sat_range\" to calculate saturation and isoquality lines. Input ranges are discarded.\n",
      "  warnings.warn(\n",
      "C:\\Users\\mario\\anaconda_v3\\Lib\\site-packages\\CoolProp\\Plots\\Plots.py:217: UserWarning: Detected an incomplete phase envelope, fixing it numerically.\n",
      "  warnings.warn(\"Detected an incomplete phase envelope, fixing it numerically.\")\n"
     ]
    },
    {
     "name": "stdout",
     "output_type": "stream",
     "text": [
      "2023-12-01 20:00:00 2023-12-08 14:00:00\n"
     ]
    },
    {
     "name": "stderr",
     "output_type": "stream",
     "text": [
      "C:\\Users\\mario\\anaconda_v3\\Lib\\site-packages\\CoolProp\\Plots\\Common.py:608: UserWarning: Please use \"calc_sat_range\" to calculate saturation and isoquality lines. Input ranges are discarded.\n",
      "  warnings.warn(\n",
      "C:\\Users\\mario\\anaconda_v3\\Lib\\site-packages\\CoolProp\\Plots\\Plots.py:217: UserWarning: Detected an incomplete phase envelope, fixing it numerically.\n",
      "  warnings.warn(\"Detected an incomplete phase envelope, fixing it numerically.\")\n"
     ]
    },
    {
     "name": "stdout",
     "output_type": "stream",
     "text": [
      "2023-12-01 21:00:00 2023-12-08 14:00:00\n"
     ]
    },
    {
     "name": "stderr",
     "output_type": "stream",
     "text": [
      "C:\\Users\\mario\\anaconda_v3\\Lib\\site-packages\\CoolProp\\Plots\\Common.py:608: UserWarning: Please use \"calc_sat_range\" to calculate saturation and isoquality lines. Input ranges are discarded.\n",
      "  warnings.warn(\n",
      "C:\\Users\\mario\\anaconda_v3\\Lib\\site-packages\\CoolProp\\Plots\\Plots.py:217: UserWarning: Detected an incomplete phase envelope, fixing it numerically.\n",
      "  warnings.warn(\"Detected an incomplete phase envelope, fixing it numerically.\")\n"
     ]
    },
    {
     "name": "stdout",
     "output_type": "stream",
     "text": [
      "2023-12-01 22:00:00 2023-12-08 14:00:00\n"
     ]
    },
    {
     "name": "stderr",
     "output_type": "stream",
     "text": [
      "C:\\Users\\mario\\anaconda_v3\\Lib\\site-packages\\CoolProp\\Plots\\Common.py:608: UserWarning: Please use \"calc_sat_range\" to calculate saturation and isoquality lines. Input ranges are discarded.\n",
      "  warnings.warn(\n",
      "C:\\Users\\mario\\anaconda_v3\\Lib\\site-packages\\CoolProp\\Plots\\Plots.py:217: UserWarning: Detected an incomplete phase envelope, fixing it numerically.\n",
      "  warnings.warn(\"Detected an incomplete phase envelope, fixing it numerically.\")\n"
     ]
    },
    {
     "name": "stdout",
     "output_type": "stream",
     "text": [
      "2023-12-01 23:00:00 2023-12-08 14:00:00\n"
     ]
    },
    {
     "name": "stderr",
     "output_type": "stream",
     "text": [
      "C:\\Users\\mario\\anaconda_v3\\Lib\\site-packages\\CoolProp\\Plots\\Common.py:608: UserWarning: Please use \"calc_sat_range\" to calculate saturation and isoquality lines. Input ranges are discarded.\n",
      "  warnings.warn(\n",
      "C:\\Users\\mario\\anaconda_v3\\Lib\\site-packages\\CoolProp\\Plots\\Plots.py:217: UserWarning: Detected an incomplete phase envelope, fixing it numerically.\n",
      "  warnings.warn(\"Detected an incomplete phase envelope, fixing it numerically.\")\n"
     ]
    },
    {
     "name": "stdout",
     "output_type": "stream",
     "text": [
      "2023-12-02 00:00:00 2023-12-08 14:00:00\n"
     ]
    },
    {
     "name": "stderr",
     "output_type": "stream",
     "text": [
      "C:\\Users\\mario\\anaconda_v3\\Lib\\site-packages\\CoolProp\\Plots\\Common.py:608: UserWarning: Please use \"calc_sat_range\" to calculate saturation and isoquality lines. Input ranges are discarded.\n",
      "  warnings.warn(\n",
      "C:\\Users\\mario\\anaconda_v3\\Lib\\site-packages\\CoolProp\\Plots\\Plots.py:217: UserWarning: Detected an incomplete phase envelope, fixing it numerically.\n",
      "  warnings.warn(\"Detected an incomplete phase envelope, fixing it numerically.\")\n"
     ]
    },
    {
     "name": "stdout",
     "output_type": "stream",
     "text": [
      "2023-12-02 01:00:00 2023-12-08 14:00:00\n"
     ]
    },
    {
     "name": "stderr",
     "output_type": "stream",
     "text": [
      "C:\\Users\\mario\\anaconda_v3\\Lib\\site-packages\\CoolProp\\Plots\\Common.py:608: UserWarning: Please use \"calc_sat_range\" to calculate saturation and isoquality lines. Input ranges are discarded.\n",
      "  warnings.warn(\n",
      "C:\\Users\\mario\\anaconda_v3\\Lib\\site-packages\\CoolProp\\Plots\\Plots.py:217: UserWarning: Detected an incomplete phase envelope, fixing it numerically.\n",
      "  warnings.warn(\"Detected an incomplete phase envelope, fixing it numerically.\")\n"
     ]
    },
    {
     "name": "stdout",
     "output_type": "stream",
     "text": [
      "2023-12-02 02:00:00 2023-12-08 14:00:00\n"
     ]
    },
    {
     "name": "stderr",
     "output_type": "stream",
     "text": [
      "C:\\Users\\mario\\anaconda_v3\\Lib\\site-packages\\CoolProp\\Plots\\Common.py:608: UserWarning: Please use \"calc_sat_range\" to calculate saturation and isoquality lines. Input ranges are discarded.\n",
      "  warnings.warn(\n",
      "C:\\Users\\mario\\anaconda_v3\\Lib\\site-packages\\CoolProp\\Plots\\Plots.py:217: UserWarning: Detected an incomplete phase envelope, fixing it numerically.\n",
      "  warnings.warn(\"Detected an incomplete phase envelope, fixing it numerically.\")\n"
     ]
    },
    {
     "name": "stdout",
     "output_type": "stream",
     "text": [
      "2023-12-02 03:00:00 2023-12-08 14:00:00\n"
     ]
    },
    {
     "name": "stderr",
     "output_type": "stream",
     "text": [
      "C:\\Users\\mario\\anaconda_v3\\Lib\\site-packages\\CoolProp\\Plots\\Common.py:608: UserWarning: Please use \"calc_sat_range\" to calculate saturation and isoquality lines. Input ranges are discarded.\n",
      "  warnings.warn(\n",
      "C:\\Users\\mario\\anaconda_v3\\Lib\\site-packages\\CoolProp\\Plots\\Plots.py:217: UserWarning: Detected an incomplete phase envelope, fixing it numerically.\n",
      "  warnings.warn(\"Detected an incomplete phase envelope, fixing it numerically.\")\n"
     ]
    },
    {
     "name": "stdout",
     "output_type": "stream",
     "text": [
      "2023-12-02 04:00:00 2023-12-08 14:00:00\n"
     ]
    },
    {
     "name": "stderr",
     "output_type": "stream",
     "text": [
      "C:\\Users\\mario\\anaconda_v3\\Lib\\site-packages\\CoolProp\\Plots\\Common.py:608: UserWarning: Please use \"calc_sat_range\" to calculate saturation and isoquality lines. Input ranges are discarded.\n",
      "  warnings.warn(\n",
      "C:\\Users\\mario\\anaconda_v3\\Lib\\site-packages\\CoolProp\\Plots\\Plots.py:217: UserWarning: Detected an incomplete phase envelope, fixing it numerically.\n",
      "  warnings.warn(\"Detected an incomplete phase envelope, fixing it numerically.\")\n"
     ]
    },
    {
     "name": "stdout",
     "output_type": "stream",
     "text": [
      "2023-12-02 05:00:00 2023-12-08 14:00:00\n"
     ]
    },
    {
     "name": "stderr",
     "output_type": "stream",
     "text": [
      "C:\\Users\\mario\\anaconda_v3\\Lib\\site-packages\\CoolProp\\Plots\\Common.py:608: UserWarning: Please use \"calc_sat_range\" to calculate saturation and isoquality lines. Input ranges are discarded.\n",
      "  warnings.warn(\n",
      "C:\\Users\\mario\\anaconda_v3\\Lib\\site-packages\\CoolProp\\Plots\\Plots.py:217: UserWarning: Detected an incomplete phase envelope, fixing it numerically.\n",
      "  warnings.warn(\"Detected an incomplete phase envelope, fixing it numerically.\")\n"
     ]
    },
    {
     "name": "stdout",
     "output_type": "stream",
     "text": [
      "2023-12-02 06:00:00 2023-12-08 14:00:00\n"
     ]
    },
    {
     "name": "stderr",
     "output_type": "stream",
     "text": [
      "C:\\Users\\mario\\anaconda_v3\\Lib\\site-packages\\CoolProp\\Plots\\Common.py:608: UserWarning: Please use \"calc_sat_range\" to calculate saturation and isoquality lines. Input ranges are discarded.\n",
      "  warnings.warn(\n",
      "C:\\Users\\mario\\anaconda_v3\\Lib\\site-packages\\CoolProp\\Plots\\Plots.py:217: UserWarning: Detected an incomplete phase envelope, fixing it numerically.\n",
      "  warnings.warn(\"Detected an incomplete phase envelope, fixing it numerically.\")\n"
     ]
    },
    {
     "name": "stdout",
     "output_type": "stream",
     "text": [
      "2023-12-02 07:00:00 2023-12-08 14:00:00\n"
     ]
    },
    {
     "name": "stderr",
     "output_type": "stream",
     "text": [
      "C:\\Users\\mario\\anaconda_v3\\Lib\\site-packages\\CoolProp\\Plots\\Common.py:608: UserWarning: Please use \"calc_sat_range\" to calculate saturation and isoquality lines. Input ranges are discarded.\n",
      "  warnings.warn(\n",
      "C:\\Users\\mario\\anaconda_v3\\Lib\\site-packages\\CoolProp\\Plots\\Plots.py:217: UserWarning: Detected an incomplete phase envelope, fixing it numerically.\n",
      "  warnings.warn(\"Detected an incomplete phase envelope, fixing it numerically.\")\n"
     ]
    },
    {
     "name": "stdout",
     "output_type": "stream",
     "text": [
      "2023-12-02 08:00:00 2023-12-08 14:00:00\n"
     ]
    },
    {
     "name": "stderr",
     "output_type": "stream",
     "text": [
      "C:\\Users\\mario\\anaconda_v3\\Lib\\site-packages\\CoolProp\\Plots\\Common.py:608: UserWarning: Please use \"calc_sat_range\" to calculate saturation and isoquality lines. Input ranges are discarded.\n",
      "  warnings.warn(\n",
      "C:\\Users\\mario\\anaconda_v3\\Lib\\site-packages\\CoolProp\\Plots\\Plots.py:217: UserWarning: Detected an incomplete phase envelope, fixing it numerically.\n",
      "  warnings.warn(\"Detected an incomplete phase envelope, fixing it numerically.\")\n"
     ]
    },
    {
     "name": "stdout",
     "output_type": "stream",
     "text": [
      "2023-12-02 09:00:00 2023-12-08 14:00:00\n"
     ]
    },
    {
     "name": "stderr",
     "output_type": "stream",
     "text": [
      "C:\\Users\\mario\\anaconda_v3\\Lib\\site-packages\\CoolProp\\Plots\\Common.py:608: UserWarning: Please use \"calc_sat_range\" to calculate saturation and isoquality lines. Input ranges are discarded.\n",
      "  warnings.warn(\n",
      "C:\\Users\\mario\\anaconda_v3\\Lib\\site-packages\\CoolProp\\Plots\\Plots.py:217: UserWarning: Detected an incomplete phase envelope, fixing it numerically.\n",
      "  warnings.warn(\"Detected an incomplete phase envelope, fixing it numerically.\")\n"
     ]
    },
    {
     "name": "stdout",
     "output_type": "stream",
     "text": [
      "2023-12-02 10:00:00 2023-12-08 14:00:00\n"
     ]
    },
    {
     "name": "stderr",
     "output_type": "stream",
     "text": [
      "C:\\Users\\mario\\anaconda_v3\\Lib\\site-packages\\CoolProp\\Plots\\Common.py:608: UserWarning: Please use \"calc_sat_range\" to calculate saturation and isoquality lines. Input ranges are discarded.\n",
      "  warnings.warn(\n",
      "C:\\Users\\mario\\anaconda_v3\\Lib\\site-packages\\CoolProp\\Plots\\Plots.py:217: UserWarning: Detected an incomplete phase envelope, fixing it numerically.\n",
      "  warnings.warn(\"Detected an incomplete phase envelope, fixing it numerically.\")\n"
     ]
    },
    {
     "name": "stdout",
     "output_type": "stream",
     "text": [
      "2023-12-02 11:00:00 2023-12-08 14:00:00\n"
     ]
    },
    {
     "name": "stderr",
     "output_type": "stream",
     "text": [
      "C:\\Users\\mario\\anaconda_v3\\Lib\\site-packages\\CoolProp\\Plots\\Common.py:608: UserWarning: Please use \"calc_sat_range\" to calculate saturation and isoquality lines. Input ranges are discarded.\n",
      "  warnings.warn(\n",
      "C:\\Users\\mario\\anaconda_v3\\Lib\\site-packages\\CoolProp\\Plots\\Plots.py:217: UserWarning: Detected an incomplete phase envelope, fixing it numerically.\n",
      "  warnings.warn(\"Detected an incomplete phase envelope, fixing it numerically.\")\n"
     ]
    },
    {
     "name": "stdout",
     "output_type": "stream",
     "text": [
      "2023-12-02 12:00:00 2023-12-08 14:00:00\n"
     ]
    },
    {
     "name": "stderr",
     "output_type": "stream",
     "text": [
      "C:\\Users\\mario\\anaconda_v3\\Lib\\site-packages\\CoolProp\\Plots\\Common.py:608: UserWarning: Please use \"calc_sat_range\" to calculate saturation and isoquality lines. Input ranges are discarded.\n",
      "  warnings.warn(\n",
      "C:\\Users\\mario\\anaconda_v3\\Lib\\site-packages\\CoolProp\\Plots\\Plots.py:217: UserWarning: Detected an incomplete phase envelope, fixing it numerically.\n",
      "  warnings.warn(\"Detected an incomplete phase envelope, fixing it numerically.\")\n"
     ]
    },
    {
     "name": "stdout",
     "output_type": "stream",
     "text": [
      "2023-12-02 13:00:00 2023-12-08 14:00:00\n"
     ]
    },
    {
     "name": "stderr",
     "output_type": "stream",
     "text": [
      "C:\\Users\\mario\\anaconda_v3\\Lib\\site-packages\\CoolProp\\Plots\\Common.py:608: UserWarning: Please use \"calc_sat_range\" to calculate saturation and isoquality lines. Input ranges are discarded.\n",
      "  warnings.warn(\n",
      "C:\\Users\\mario\\anaconda_v3\\Lib\\site-packages\\CoolProp\\Plots\\Plots.py:217: UserWarning: Detected an incomplete phase envelope, fixing it numerically.\n",
      "  warnings.warn(\"Detected an incomplete phase envelope, fixing it numerically.\")\n"
     ]
    },
    {
     "name": "stdout",
     "output_type": "stream",
     "text": [
      "2023-12-02 14:00:00 2023-12-08 14:00:00\n"
     ]
    },
    {
     "name": "stderr",
     "output_type": "stream",
     "text": [
      "C:\\Users\\mario\\anaconda_v3\\Lib\\site-packages\\CoolProp\\Plots\\Common.py:608: UserWarning: Please use \"calc_sat_range\" to calculate saturation and isoquality lines. Input ranges are discarded.\n",
      "  warnings.warn(\n",
      "C:\\Users\\mario\\anaconda_v3\\Lib\\site-packages\\CoolProp\\Plots\\Plots.py:217: UserWarning: Detected an incomplete phase envelope, fixing it numerically.\n",
      "  warnings.warn(\"Detected an incomplete phase envelope, fixing it numerically.\")\n"
     ]
    },
    {
     "name": "stdout",
     "output_type": "stream",
     "text": [
      "2023-12-02 15:00:00 2023-12-08 14:00:00\n"
     ]
    },
    {
     "name": "stderr",
     "output_type": "stream",
     "text": [
      "C:\\Users\\mario\\anaconda_v3\\Lib\\site-packages\\CoolProp\\Plots\\Common.py:608: UserWarning: Please use \"calc_sat_range\" to calculate saturation and isoquality lines. Input ranges are discarded.\n",
      "  warnings.warn(\n",
      "C:\\Users\\mario\\anaconda_v3\\Lib\\site-packages\\CoolProp\\Plots\\Plots.py:217: UserWarning: Detected an incomplete phase envelope, fixing it numerically.\n",
      "  warnings.warn(\"Detected an incomplete phase envelope, fixing it numerically.\")\n"
     ]
    },
    {
     "name": "stdout",
     "output_type": "stream",
     "text": [
      "2023-12-02 16:00:00 2023-12-08 14:00:00\n"
     ]
    },
    {
     "name": "stderr",
     "output_type": "stream",
     "text": [
      "C:\\Users\\mario\\anaconda_v3\\Lib\\site-packages\\CoolProp\\Plots\\Common.py:608: UserWarning: Please use \"calc_sat_range\" to calculate saturation and isoquality lines. Input ranges are discarded.\n",
      "  warnings.warn(\n",
      "C:\\Users\\mario\\anaconda_v3\\Lib\\site-packages\\CoolProp\\Plots\\Plots.py:217: UserWarning: Detected an incomplete phase envelope, fixing it numerically.\n",
      "  warnings.warn(\"Detected an incomplete phase envelope, fixing it numerically.\")\n"
     ]
    },
    {
     "name": "stdout",
     "output_type": "stream",
     "text": [
      "2023-12-02 17:00:00 2023-12-08 14:00:00\n"
     ]
    },
    {
     "name": "stderr",
     "output_type": "stream",
     "text": [
      "C:\\Users\\mario\\anaconda_v3\\Lib\\site-packages\\CoolProp\\Plots\\Common.py:608: UserWarning: Please use \"calc_sat_range\" to calculate saturation and isoquality lines. Input ranges are discarded.\n",
      "  warnings.warn(\n",
      "C:\\Users\\mario\\anaconda_v3\\Lib\\site-packages\\CoolProp\\Plots\\Plots.py:217: UserWarning: Detected an incomplete phase envelope, fixing it numerically.\n",
      "  warnings.warn(\"Detected an incomplete phase envelope, fixing it numerically.\")\n"
     ]
    },
    {
     "name": "stdout",
     "output_type": "stream",
     "text": [
      "2023-12-02 18:00:00 2023-12-08 14:00:00\n"
     ]
    },
    {
     "name": "stderr",
     "output_type": "stream",
     "text": [
      "C:\\Users\\mario\\anaconda_v3\\Lib\\site-packages\\CoolProp\\Plots\\Common.py:608: UserWarning: Please use \"calc_sat_range\" to calculate saturation and isoquality lines. Input ranges are discarded.\n",
      "  warnings.warn(\n",
      "C:\\Users\\mario\\anaconda_v3\\Lib\\site-packages\\CoolProp\\Plots\\Plots.py:217: UserWarning: Detected an incomplete phase envelope, fixing it numerically.\n",
      "  warnings.warn(\"Detected an incomplete phase envelope, fixing it numerically.\")\n"
     ]
    },
    {
     "name": "stdout",
     "output_type": "stream",
     "text": [
      "2023-12-02 19:00:00 2023-12-08 14:00:00\n"
     ]
    },
    {
     "name": "stderr",
     "output_type": "stream",
     "text": [
      "C:\\Users\\mario\\anaconda_v3\\Lib\\site-packages\\CoolProp\\Plots\\Common.py:608: UserWarning: Please use \"calc_sat_range\" to calculate saturation and isoquality lines. Input ranges are discarded.\n",
      "  warnings.warn(\n",
      "C:\\Users\\mario\\anaconda_v3\\Lib\\site-packages\\CoolProp\\Plots\\Plots.py:217: UserWarning: Detected an incomplete phase envelope, fixing it numerically.\n",
      "  warnings.warn(\"Detected an incomplete phase envelope, fixing it numerically.\")\n"
     ]
    },
    {
     "name": "stdout",
     "output_type": "stream",
     "text": [
      "2023-12-02 20:00:00 2023-12-08 14:00:00\n"
     ]
    },
    {
     "name": "stderr",
     "output_type": "stream",
     "text": [
      "C:\\Users\\mario\\anaconda_v3\\Lib\\site-packages\\CoolProp\\Plots\\Common.py:608: UserWarning: Please use \"calc_sat_range\" to calculate saturation and isoquality lines. Input ranges are discarded.\n",
      "  warnings.warn(\n",
      "C:\\Users\\mario\\anaconda_v3\\Lib\\site-packages\\CoolProp\\Plots\\Plots.py:217: UserWarning: Detected an incomplete phase envelope, fixing it numerically.\n",
      "  warnings.warn(\"Detected an incomplete phase envelope, fixing it numerically.\")\n"
     ]
    },
    {
     "name": "stdout",
     "output_type": "stream",
     "text": [
      "2023-12-02 21:00:00 2023-12-08 14:00:00\n"
     ]
    },
    {
     "name": "stderr",
     "output_type": "stream",
     "text": [
      "C:\\Users\\mario\\anaconda_v3\\Lib\\site-packages\\CoolProp\\Plots\\Common.py:608: UserWarning: Please use \"calc_sat_range\" to calculate saturation and isoquality lines. Input ranges are discarded.\n",
      "  warnings.warn(\n",
      "C:\\Users\\mario\\anaconda_v3\\Lib\\site-packages\\CoolProp\\Plots\\Plots.py:217: UserWarning: Detected an incomplete phase envelope, fixing it numerically.\n",
      "  warnings.warn(\"Detected an incomplete phase envelope, fixing it numerically.\")\n"
     ]
    },
    {
     "name": "stdout",
     "output_type": "stream",
     "text": [
      "2023-12-02 22:00:00 2023-12-08 14:00:00\n"
     ]
    },
    {
     "name": "stderr",
     "output_type": "stream",
     "text": [
      "C:\\Users\\mario\\anaconda_v3\\Lib\\site-packages\\CoolProp\\Plots\\Common.py:608: UserWarning: Please use \"calc_sat_range\" to calculate saturation and isoquality lines. Input ranges are discarded.\n",
      "  warnings.warn(\n",
      "C:\\Users\\mario\\anaconda_v3\\Lib\\site-packages\\CoolProp\\Plots\\Plots.py:217: UserWarning: Detected an incomplete phase envelope, fixing it numerically.\n",
      "  warnings.warn(\"Detected an incomplete phase envelope, fixing it numerically.\")\n"
     ]
    },
    {
     "name": "stdout",
     "output_type": "stream",
     "text": [
      "2023-12-02 23:00:00 2023-12-08 14:00:00\n"
     ]
    },
    {
     "name": "stderr",
     "output_type": "stream",
     "text": [
      "C:\\Users\\mario\\anaconda_v3\\Lib\\site-packages\\CoolProp\\Plots\\Common.py:608: UserWarning: Please use \"calc_sat_range\" to calculate saturation and isoquality lines. Input ranges are discarded.\n",
      "  warnings.warn(\n",
      "C:\\Users\\mario\\anaconda_v3\\Lib\\site-packages\\CoolProp\\Plots\\Plots.py:217: UserWarning: Detected an incomplete phase envelope, fixing it numerically.\n",
      "  warnings.warn(\"Detected an incomplete phase envelope, fixing it numerically.\")\n"
     ]
    },
    {
     "name": "stdout",
     "output_type": "stream",
     "text": [
      "2023-12-03 00:00:00 2023-12-08 14:00:00\n"
     ]
    },
    {
     "name": "stderr",
     "output_type": "stream",
     "text": [
      "C:\\Users\\mario\\anaconda_v3\\Lib\\site-packages\\CoolProp\\Plots\\Common.py:608: UserWarning: Please use \"calc_sat_range\" to calculate saturation and isoquality lines. Input ranges are discarded.\n",
      "  warnings.warn(\n",
      "C:\\Users\\mario\\anaconda_v3\\Lib\\site-packages\\CoolProp\\Plots\\Plots.py:217: UserWarning: Detected an incomplete phase envelope, fixing it numerically.\n",
      "  warnings.warn(\"Detected an incomplete phase envelope, fixing it numerically.\")\n"
     ]
    },
    {
     "name": "stdout",
     "output_type": "stream",
     "text": [
      "2023-12-03 01:00:00 2023-12-08 14:00:00\n"
     ]
    },
    {
     "name": "stderr",
     "output_type": "stream",
     "text": [
      "C:\\Users\\mario\\anaconda_v3\\Lib\\site-packages\\CoolProp\\Plots\\Common.py:608: UserWarning: Please use \"calc_sat_range\" to calculate saturation and isoquality lines. Input ranges are discarded.\n",
      "  warnings.warn(\n",
      "C:\\Users\\mario\\anaconda_v3\\Lib\\site-packages\\CoolProp\\Plots\\Plots.py:217: UserWarning: Detected an incomplete phase envelope, fixing it numerically.\n",
      "  warnings.warn(\"Detected an incomplete phase envelope, fixing it numerically.\")\n"
     ]
    },
    {
     "name": "stdout",
     "output_type": "stream",
     "text": [
      "2023-12-03 02:00:00 2023-12-08 14:00:00\n"
     ]
    },
    {
     "name": "stderr",
     "output_type": "stream",
     "text": [
      "C:\\Users\\mario\\anaconda_v3\\Lib\\site-packages\\CoolProp\\Plots\\Common.py:608: UserWarning: Please use \"calc_sat_range\" to calculate saturation and isoquality lines. Input ranges are discarded.\n",
      "  warnings.warn(\n",
      "C:\\Users\\mario\\anaconda_v3\\Lib\\site-packages\\CoolProp\\Plots\\Plots.py:217: UserWarning: Detected an incomplete phase envelope, fixing it numerically.\n",
      "  warnings.warn(\"Detected an incomplete phase envelope, fixing it numerically.\")\n"
     ]
    },
    {
     "name": "stdout",
     "output_type": "stream",
     "text": [
      "2023-12-03 03:00:00 2023-12-08 14:00:00\n"
     ]
    },
    {
     "name": "stderr",
     "output_type": "stream",
     "text": [
      "C:\\Users\\mario\\anaconda_v3\\Lib\\site-packages\\CoolProp\\Plots\\Common.py:608: UserWarning: Please use \"calc_sat_range\" to calculate saturation and isoquality lines. Input ranges are discarded.\n",
      "  warnings.warn(\n",
      "C:\\Users\\mario\\anaconda_v3\\Lib\\site-packages\\CoolProp\\Plots\\Plots.py:217: UserWarning: Detected an incomplete phase envelope, fixing it numerically.\n",
      "  warnings.warn(\"Detected an incomplete phase envelope, fixing it numerically.\")\n"
     ]
    },
    {
     "name": "stdout",
     "output_type": "stream",
     "text": [
      "2023-12-03 04:00:00 2023-12-08 14:00:00\n"
     ]
    },
    {
     "name": "stderr",
     "output_type": "stream",
     "text": [
      "C:\\Users\\mario\\anaconda_v3\\Lib\\site-packages\\CoolProp\\Plots\\Common.py:608: UserWarning: Please use \"calc_sat_range\" to calculate saturation and isoquality lines. Input ranges are discarded.\n",
      "  warnings.warn(\n",
      "C:\\Users\\mario\\anaconda_v3\\Lib\\site-packages\\CoolProp\\Plots\\Plots.py:217: UserWarning: Detected an incomplete phase envelope, fixing it numerically.\n",
      "  warnings.warn(\"Detected an incomplete phase envelope, fixing it numerically.\")\n"
     ]
    },
    {
     "name": "stdout",
     "output_type": "stream",
     "text": [
      "2023-12-03 05:00:00 2023-12-08 14:00:00\n"
     ]
    },
    {
     "name": "stderr",
     "output_type": "stream",
     "text": [
      "C:\\Users\\mario\\anaconda_v3\\Lib\\site-packages\\CoolProp\\Plots\\Common.py:608: UserWarning: Please use \"calc_sat_range\" to calculate saturation and isoquality lines. Input ranges are discarded.\n",
      "  warnings.warn(\n",
      "C:\\Users\\mario\\anaconda_v3\\Lib\\site-packages\\CoolProp\\Plots\\Plots.py:217: UserWarning: Detected an incomplete phase envelope, fixing it numerically.\n",
      "  warnings.warn(\"Detected an incomplete phase envelope, fixing it numerically.\")\n"
     ]
    },
    {
     "name": "stdout",
     "output_type": "stream",
     "text": [
      "2023-12-03 06:00:00 2023-12-08 14:00:00\n"
     ]
    },
    {
     "name": "stderr",
     "output_type": "stream",
     "text": [
      "C:\\Users\\mario\\anaconda_v3\\Lib\\site-packages\\CoolProp\\Plots\\Common.py:608: UserWarning: Please use \"calc_sat_range\" to calculate saturation and isoquality lines. Input ranges are discarded.\n",
      "  warnings.warn(\n",
      "C:\\Users\\mario\\anaconda_v3\\Lib\\site-packages\\CoolProp\\Plots\\Plots.py:217: UserWarning: Detected an incomplete phase envelope, fixing it numerically.\n",
      "  warnings.warn(\"Detected an incomplete phase envelope, fixing it numerically.\")\n"
     ]
    },
    {
     "name": "stdout",
     "output_type": "stream",
     "text": [
      "2023-12-03 07:00:00 2023-12-08 14:00:00\n"
     ]
    },
    {
     "name": "stderr",
     "output_type": "stream",
     "text": [
      "C:\\Users\\mario\\anaconda_v3\\Lib\\site-packages\\CoolProp\\Plots\\Common.py:608: UserWarning: Please use \"calc_sat_range\" to calculate saturation and isoquality lines. Input ranges are discarded.\n",
      "  warnings.warn(\n",
      "C:\\Users\\mario\\anaconda_v3\\Lib\\site-packages\\CoolProp\\Plots\\Plots.py:217: UserWarning: Detected an incomplete phase envelope, fixing it numerically.\n",
      "  warnings.warn(\"Detected an incomplete phase envelope, fixing it numerically.\")\n"
     ]
    },
    {
     "name": "stdout",
     "output_type": "stream",
     "text": [
      "2023-12-03 08:00:00 2023-12-08 14:00:00\n"
     ]
    },
    {
     "name": "stderr",
     "output_type": "stream",
     "text": [
      "C:\\Users\\mario\\anaconda_v3\\Lib\\site-packages\\CoolProp\\Plots\\Common.py:608: UserWarning: Please use \"calc_sat_range\" to calculate saturation and isoquality lines. Input ranges are discarded.\n",
      "  warnings.warn(\n",
      "C:\\Users\\mario\\anaconda_v3\\Lib\\site-packages\\CoolProp\\Plots\\Plots.py:217: UserWarning: Detected an incomplete phase envelope, fixing it numerically.\n",
      "  warnings.warn(\"Detected an incomplete phase envelope, fixing it numerically.\")\n"
     ]
    },
    {
     "name": "stdout",
     "output_type": "stream",
     "text": [
      "2023-12-03 09:00:00 2023-12-08 14:00:00\n"
     ]
    },
    {
     "name": "stderr",
     "output_type": "stream",
     "text": [
      "C:\\Users\\mario\\anaconda_v3\\Lib\\site-packages\\CoolProp\\Plots\\Common.py:608: UserWarning: Please use \"calc_sat_range\" to calculate saturation and isoquality lines. Input ranges are discarded.\n",
      "  warnings.warn(\n",
      "C:\\Users\\mario\\anaconda_v3\\Lib\\site-packages\\CoolProp\\Plots\\Plots.py:217: UserWarning: Detected an incomplete phase envelope, fixing it numerically.\n",
      "  warnings.warn(\"Detected an incomplete phase envelope, fixing it numerically.\")\n"
     ]
    },
    {
     "name": "stdout",
     "output_type": "stream",
     "text": [
      "2023-12-03 10:00:00 2023-12-08 14:00:00\n"
     ]
    },
    {
     "name": "stderr",
     "output_type": "stream",
     "text": [
      "C:\\Users\\mario\\anaconda_v3\\Lib\\site-packages\\CoolProp\\Plots\\Common.py:608: UserWarning: Please use \"calc_sat_range\" to calculate saturation and isoquality lines. Input ranges are discarded.\n",
      "  warnings.warn(\n",
      "C:\\Users\\mario\\anaconda_v3\\Lib\\site-packages\\CoolProp\\Plots\\Plots.py:217: UserWarning: Detected an incomplete phase envelope, fixing it numerically.\n",
      "  warnings.warn(\"Detected an incomplete phase envelope, fixing it numerically.\")\n"
     ]
    },
    {
     "name": "stdout",
     "output_type": "stream",
     "text": [
      "2023-12-03 11:00:00 2023-12-08 14:00:00\n"
     ]
    },
    {
     "name": "stderr",
     "output_type": "stream",
     "text": [
      "C:\\Users\\mario\\anaconda_v3\\Lib\\site-packages\\CoolProp\\Plots\\Common.py:608: UserWarning: Please use \"calc_sat_range\" to calculate saturation and isoquality lines. Input ranges are discarded.\n",
      "  warnings.warn(\n",
      "C:\\Users\\mario\\anaconda_v3\\Lib\\site-packages\\CoolProp\\Plots\\Plots.py:217: UserWarning: Detected an incomplete phase envelope, fixing it numerically.\n",
      "  warnings.warn(\"Detected an incomplete phase envelope, fixing it numerically.\")\n"
     ]
    },
    {
     "name": "stdout",
     "output_type": "stream",
     "text": [
      "2023-12-03 12:00:00 2023-12-08 14:00:00\n"
     ]
    },
    {
     "name": "stderr",
     "output_type": "stream",
     "text": [
      "C:\\Users\\mario\\anaconda_v3\\Lib\\site-packages\\CoolProp\\Plots\\Common.py:608: UserWarning: Please use \"calc_sat_range\" to calculate saturation and isoquality lines. Input ranges are discarded.\n",
      "  warnings.warn(\n",
      "C:\\Users\\mario\\anaconda_v3\\Lib\\site-packages\\CoolProp\\Plots\\Plots.py:217: UserWarning: Detected an incomplete phase envelope, fixing it numerically.\n",
      "  warnings.warn(\"Detected an incomplete phase envelope, fixing it numerically.\")\n"
     ]
    },
    {
     "name": "stdout",
     "output_type": "stream",
     "text": [
      "2023-12-03 13:00:00 2023-12-08 14:00:00\n"
     ]
    },
    {
     "name": "stderr",
     "output_type": "stream",
     "text": [
      "C:\\Users\\mario\\anaconda_v3\\Lib\\site-packages\\CoolProp\\Plots\\Common.py:608: UserWarning: Please use \"calc_sat_range\" to calculate saturation and isoquality lines. Input ranges are discarded.\n",
      "  warnings.warn(\n",
      "C:\\Users\\mario\\anaconda_v3\\Lib\\site-packages\\CoolProp\\Plots\\Plots.py:217: UserWarning: Detected an incomplete phase envelope, fixing it numerically.\n",
      "  warnings.warn(\"Detected an incomplete phase envelope, fixing it numerically.\")\n"
     ]
    },
    {
     "name": "stdout",
     "output_type": "stream",
     "text": [
      "2023-12-03 14:00:00 2023-12-08 14:00:00\n"
     ]
    },
    {
     "name": "stderr",
     "output_type": "stream",
     "text": [
      "C:\\Users\\mario\\anaconda_v3\\Lib\\site-packages\\CoolProp\\Plots\\Common.py:608: UserWarning: Please use \"calc_sat_range\" to calculate saturation and isoquality lines. Input ranges are discarded.\n",
      "  warnings.warn(\n",
      "C:\\Users\\mario\\anaconda_v3\\Lib\\site-packages\\CoolProp\\Plots\\Plots.py:217: UserWarning: Detected an incomplete phase envelope, fixing it numerically.\n",
      "  warnings.warn(\"Detected an incomplete phase envelope, fixing it numerically.\")\n"
     ]
    },
    {
     "name": "stdout",
     "output_type": "stream",
     "text": [
      "2023-12-03 15:00:00 2023-12-08 14:00:00\n"
     ]
    },
    {
     "name": "stderr",
     "output_type": "stream",
     "text": [
      "C:\\Users\\mario\\anaconda_v3\\Lib\\site-packages\\CoolProp\\Plots\\Common.py:608: UserWarning: Please use \"calc_sat_range\" to calculate saturation and isoquality lines. Input ranges are discarded.\n",
      "  warnings.warn(\n",
      "C:\\Users\\mario\\anaconda_v3\\Lib\\site-packages\\CoolProp\\Plots\\Plots.py:217: UserWarning: Detected an incomplete phase envelope, fixing it numerically.\n",
      "  warnings.warn(\"Detected an incomplete phase envelope, fixing it numerically.\")\n"
     ]
    },
    {
     "name": "stdout",
     "output_type": "stream",
     "text": [
      "2023-12-03 16:00:00 2023-12-08 14:00:00\n"
     ]
    },
    {
     "name": "stderr",
     "output_type": "stream",
     "text": [
      "C:\\Users\\mario\\anaconda_v3\\Lib\\site-packages\\CoolProp\\Plots\\Common.py:608: UserWarning: Please use \"calc_sat_range\" to calculate saturation and isoquality lines. Input ranges are discarded.\n",
      "  warnings.warn(\n",
      "C:\\Users\\mario\\anaconda_v3\\Lib\\site-packages\\CoolProp\\Plots\\Plots.py:217: UserWarning: Detected an incomplete phase envelope, fixing it numerically.\n",
      "  warnings.warn(\"Detected an incomplete phase envelope, fixing it numerically.\")\n"
     ]
    },
    {
     "name": "stdout",
     "output_type": "stream",
     "text": [
      "2023-12-03 17:00:00 2023-12-08 14:00:00\n"
     ]
    },
    {
     "name": "stderr",
     "output_type": "stream",
     "text": [
      "C:\\Users\\mario\\anaconda_v3\\Lib\\site-packages\\CoolProp\\Plots\\Common.py:608: UserWarning: Please use \"calc_sat_range\" to calculate saturation and isoquality lines. Input ranges are discarded.\n",
      "  warnings.warn(\n",
      "C:\\Users\\mario\\anaconda_v3\\Lib\\site-packages\\CoolProp\\Plots\\Plots.py:217: UserWarning: Detected an incomplete phase envelope, fixing it numerically.\n",
      "  warnings.warn(\"Detected an incomplete phase envelope, fixing it numerically.\")\n"
     ]
    },
    {
     "name": "stdout",
     "output_type": "stream",
     "text": [
      "2023-12-03 18:00:00 2023-12-08 14:00:00\n"
     ]
    },
    {
     "name": "stderr",
     "output_type": "stream",
     "text": [
      "C:\\Users\\mario\\anaconda_v3\\Lib\\site-packages\\CoolProp\\Plots\\Common.py:608: UserWarning: Please use \"calc_sat_range\" to calculate saturation and isoquality lines. Input ranges are discarded.\n",
      "  warnings.warn(\n",
      "C:\\Users\\mario\\anaconda_v3\\Lib\\site-packages\\CoolProp\\Plots\\Plots.py:217: UserWarning: Detected an incomplete phase envelope, fixing it numerically.\n",
      "  warnings.warn(\"Detected an incomplete phase envelope, fixing it numerically.\")\n"
     ]
    },
    {
     "name": "stdout",
     "output_type": "stream",
     "text": [
      "2023-12-03 19:00:00 2023-12-08 14:00:00\n"
     ]
    },
    {
     "name": "stderr",
     "output_type": "stream",
     "text": [
      "C:\\Users\\mario\\anaconda_v3\\Lib\\site-packages\\CoolProp\\Plots\\Common.py:608: UserWarning: Please use \"calc_sat_range\" to calculate saturation and isoquality lines. Input ranges are discarded.\n",
      "  warnings.warn(\n",
      "C:\\Users\\mario\\anaconda_v3\\Lib\\site-packages\\CoolProp\\Plots\\Plots.py:217: UserWarning: Detected an incomplete phase envelope, fixing it numerically.\n",
      "  warnings.warn(\"Detected an incomplete phase envelope, fixing it numerically.\")\n"
     ]
    },
    {
     "name": "stdout",
     "output_type": "stream",
     "text": [
      "2023-12-03 20:00:00 2023-12-08 14:00:00\n"
     ]
    },
    {
     "name": "stderr",
     "output_type": "stream",
     "text": [
      "C:\\Users\\mario\\anaconda_v3\\Lib\\site-packages\\CoolProp\\Plots\\Common.py:608: UserWarning: Please use \"calc_sat_range\" to calculate saturation and isoquality lines. Input ranges are discarded.\n",
      "  warnings.warn(\n",
      "C:\\Users\\mario\\anaconda_v3\\Lib\\site-packages\\CoolProp\\Plots\\Plots.py:217: UserWarning: Detected an incomplete phase envelope, fixing it numerically.\n",
      "  warnings.warn(\"Detected an incomplete phase envelope, fixing it numerically.\")\n"
     ]
    },
    {
     "name": "stdout",
     "output_type": "stream",
     "text": [
      "2023-12-03 21:00:00 2023-12-08 14:00:00\n"
     ]
    },
    {
     "name": "stderr",
     "output_type": "stream",
     "text": [
      "C:\\Users\\mario\\anaconda_v3\\Lib\\site-packages\\CoolProp\\Plots\\Common.py:608: UserWarning: Please use \"calc_sat_range\" to calculate saturation and isoquality lines. Input ranges are discarded.\n",
      "  warnings.warn(\n",
      "C:\\Users\\mario\\anaconda_v3\\Lib\\site-packages\\CoolProp\\Plots\\Plots.py:217: UserWarning: Detected an incomplete phase envelope, fixing it numerically.\n",
      "  warnings.warn(\"Detected an incomplete phase envelope, fixing it numerically.\")\n"
     ]
    },
    {
     "name": "stdout",
     "output_type": "stream",
     "text": [
      "2023-12-03 22:00:00 2023-12-08 14:00:00\n"
     ]
    },
    {
     "name": "stderr",
     "output_type": "stream",
     "text": [
      "C:\\Users\\mario\\anaconda_v3\\Lib\\site-packages\\CoolProp\\Plots\\Common.py:608: UserWarning: Please use \"calc_sat_range\" to calculate saturation and isoquality lines. Input ranges are discarded.\n",
      "  warnings.warn(\n",
      "C:\\Users\\mario\\anaconda_v3\\Lib\\site-packages\\CoolProp\\Plots\\Plots.py:217: UserWarning: Detected an incomplete phase envelope, fixing it numerically.\n",
      "  warnings.warn(\"Detected an incomplete phase envelope, fixing it numerically.\")\n"
     ]
    },
    {
     "name": "stdout",
     "output_type": "stream",
     "text": [
      "2023-12-03 23:00:00 2023-12-08 14:00:00\n"
     ]
    },
    {
     "name": "stderr",
     "output_type": "stream",
     "text": [
      "C:\\Users\\mario\\anaconda_v3\\Lib\\site-packages\\CoolProp\\Plots\\Common.py:608: UserWarning: Please use \"calc_sat_range\" to calculate saturation and isoquality lines. Input ranges are discarded.\n",
      "  warnings.warn(\n",
      "C:\\Users\\mario\\anaconda_v3\\Lib\\site-packages\\CoolProp\\Plots\\Plots.py:217: UserWarning: Detected an incomplete phase envelope, fixing it numerically.\n",
      "  warnings.warn(\"Detected an incomplete phase envelope, fixing it numerically.\")\n"
     ]
    },
    {
     "name": "stdout",
     "output_type": "stream",
     "text": [
      "2023-12-04 00:00:00 2023-12-08 14:00:00\n"
     ]
    },
    {
     "name": "stderr",
     "output_type": "stream",
     "text": [
      "C:\\Users\\mario\\anaconda_v3\\Lib\\site-packages\\CoolProp\\Plots\\Common.py:608: UserWarning: Please use \"calc_sat_range\" to calculate saturation and isoquality lines. Input ranges are discarded.\n",
      "  warnings.warn(\n",
      "C:\\Users\\mario\\anaconda_v3\\Lib\\site-packages\\CoolProp\\Plots\\Plots.py:217: UserWarning: Detected an incomplete phase envelope, fixing it numerically.\n",
      "  warnings.warn(\"Detected an incomplete phase envelope, fixing it numerically.\")\n"
     ]
    },
    {
     "name": "stdout",
     "output_type": "stream",
     "text": [
      "2023-12-04 01:00:00 2023-12-08 14:00:00\n"
     ]
    },
    {
     "name": "stderr",
     "output_type": "stream",
     "text": [
      "C:\\Users\\mario\\anaconda_v3\\Lib\\site-packages\\CoolProp\\Plots\\Common.py:608: UserWarning: Please use \"calc_sat_range\" to calculate saturation and isoquality lines. Input ranges are discarded.\n",
      "  warnings.warn(\n",
      "C:\\Users\\mario\\anaconda_v3\\Lib\\site-packages\\CoolProp\\Plots\\Plots.py:217: UserWarning: Detected an incomplete phase envelope, fixing it numerically.\n",
      "  warnings.warn(\"Detected an incomplete phase envelope, fixing it numerically.\")\n"
     ]
    },
    {
     "name": "stdout",
     "output_type": "stream",
     "text": [
      "2023-12-04 02:00:00 2023-12-08 14:00:00\n"
     ]
    },
    {
     "name": "stderr",
     "output_type": "stream",
     "text": [
      "C:\\Users\\mario\\anaconda_v3\\Lib\\site-packages\\CoolProp\\Plots\\Common.py:608: UserWarning: Please use \"calc_sat_range\" to calculate saturation and isoquality lines. Input ranges are discarded.\n",
      "  warnings.warn(\n",
      "C:\\Users\\mario\\anaconda_v3\\Lib\\site-packages\\CoolProp\\Plots\\Plots.py:217: UserWarning: Detected an incomplete phase envelope, fixing it numerically.\n",
      "  warnings.warn(\"Detected an incomplete phase envelope, fixing it numerically.\")\n"
     ]
    },
    {
     "name": "stdout",
     "output_type": "stream",
     "text": [
      "2023-12-04 03:00:00 2023-12-08 14:00:00\n"
     ]
    },
    {
     "name": "stderr",
     "output_type": "stream",
     "text": [
      "C:\\Users\\mario\\anaconda_v3\\Lib\\site-packages\\CoolProp\\Plots\\Common.py:608: UserWarning: Please use \"calc_sat_range\" to calculate saturation and isoquality lines. Input ranges are discarded.\n",
      "  warnings.warn(\n",
      "C:\\Users\\mario\\anaconda_v3\\Lib\\site-packages\\CoolProp\\Plots\\Plots.py:217: UserWarning: Detected an incomplete phase envelope, fixing it numerically.\n",
      "  warnings.warn(\"Detected an incomplete phase envelope, fixing it numerically.\")\n"
     ]
    },
    {
     "name": "stdout",
     "output_type": "stream",
     "text": [
      "2023-12-04 04:00:00 2023-12-08 14:00:00\n"
     ]
    },
    {
     "name": "stderr",
     "output_type": "stream",
     "text": [
      "C:\\Users\\mario\\anaconda_v3\\Lib\\site-packages\\CoolProp\\Plots\\Common.py:608: UserWarning: Please use \"calc_sat_range\" to calculate saturation and isoquality lines. Input ranges are discarded.\n",
      "  warnings.warn(\n",
      "C:\\Users\\mario\\anaconda_v3\\Lib\\site-packages\\CoolProp\\Plots\\Plots.py:217: UserWarning: Detected an incomplete phase envelope, fixing it numerically.\n",
      "  warnings.warn(\"Detected an incomplete phase envelope, fixing it numerically.\")\n"
     ]
    },
    {
     "name": "stdout",
     "output_type": "stream",
     "text": [
      "2023-12-04 05:00:00 2023-12-08 14:00:00\n"
     ]
    },
    {
     "name": "stderr",
     "output_type": "stream",
     "text": [
      "C:\\Users\\mario\\anaconda_v3\\Lib\\site-packages\\CoolProp\\Plots\\Common.py:608: UserWarning: Please use \"calc_sat_range\" to calculate saturation and isoquality lines. Input ranges are discarded.\n",
      "  warnings.warn(\n",
      "C:\\Users\\mario\\anaconda_v3\\Lib\\site-packages\\CoolProp\\Plots\\Plots.py:217: UserWarning: Detected an incomplete phase envelope, fixing it numerically.\n",
      "  warnings.warn(\"Detected an incomplete phase envelope, fixing it numerically.\")\n"
     ]
    },
    {
     "name": "stdout",
     "output_type": "stream",
     "text": [
      "2023-12-04 06:00:00 2023-12-08 14:00:00\n"
     ]
    },
    {
     "name": "stderr",
     "output_type": "stream",
     "text": [
      "C:\\Users\\mario\\anaconda_v3\\Lib\\site-packages\\CoolProp\\Plots\\Common.py:608: UserWarning: Please use \"calc_sat_range\" to calculate saturation and isoquality lines. Input ranges are discarded.\n",
      "  warnings.warn(\n",
      "C:\\Users\\mario\\anaconda_v3\\Lib\\site-packages\\CoolProp\\Plots\\Plots.py:217: UserWarning: Detected an incomplete phase envelope, fixing it numerically.\n",
      "  warnings.warn(\"Detected an incomplete phase envelope, fixing it numerically.\")\n"
     ]
    },
    {
     "name": "stdout",
     "output_type": "stream",
     "text": [
      "2023-12-04 07:00:00 2023-12-08 14:00:00\n"
     ]
    },
    {
     "name": "stderr",
     "output_type": "stream",
     "text": [
      "C:\\Users\\mario\\anaconda_v3\\Lib\\site-packages\\CoolProp\\Plots\\Common.py:608: UserWarning: Please use \"calc_sat_range\" to calculate saturation and isoquality lines. Input ranges are discarded.\n",
      "  warnings.warn(\n",
      "C:\\Users\\mario\\anaconda_v3\\Lib\\site-packages\\CoolProp\\Plots\\Plots.py:217: UserWarning: Detected an incomplete phase envelope, fixing it numerically.\n",
      "  warnings.warn(\"Detected an incomplete phase envelope, fixing it numerically.\")\n"
     ]
    },
    {
     "name": "stdout",
     "output_type": "stream",
     "text": [
      "2023-12-04 08:00:00 2023-12-08 14:00:00\n"
     ]
    },
    {
     "name": "stderr",
     "output_type": "stream",
     "text": [
      "C:\\Users\\mario\\anaconda_v3\\Lib\\site-packages\\CoolProp\\Plots\\Common.py:608: UserWarning: Please use \"calc_sat_range\" to calculate saturation and isoquality lines. Input ranges are discarded.\n",
      "  warnings.warn(\n",
      "C:\\Users\\mario\\anaconda_v3\\Lib\\site-packages\\CoolProp\\Plots\\Plots.py:217: UserWarning: Detected an incomplete phase envelope, fixing it numerically.\n",
      "  warnings.warn(\"Detected an incomplete phase envelope, fixing it numerically.\")\n"
     ]
    },
    {
     "name": "stdout",
     "output_type": "stream",
     "text": [
      "2023-12-04 09:00:00 2023-12-08 14:00:00\n"
     ]
    },
    {
     "name": "stderr",
     "output_type": "stream",
     "text": [
      "C:\\Users\\mario\\anaconda_v3\\Lib\\site-packages\\CoolProp\\Plots\\Common.py:608: UserWarning: Please use \"calc_sat_range\" to calculate saturation and isoquality lines. Input ranges are discarded.\n",
      "  warnings.warn(\n",
      "C:\\Users\\mario\\anaconda_v3\\Lib\\site-packages\\CoolProp\\Plots\\Plots.py:217: UserWarning: Detected an incomplete phase envelope, fixing it numerically.\n",
      "  warnings.warn(\"Detected an incomplete phase envelope, fixing it numerically.\")\n"
     ]
    },
    {
     "name": "stdout",
     "output_type": "stream",
     "text": [
      "2023-12-04 10:00:00 2023-12-08 14:00:00\n"
     ]
    },
    {
     "name": "stderr",
     "output_type": "stream",
     "text": [
      "C:\\Users\\mario\\anaconda_v3\\Lib\\site-packages\\CoolProp\\Plots\\Common.py:608: UserWarning: Please use \"calc_sat_range\" to calculate saturation and isoquality lines. Input ranges are discarded.\n",
      "  warnings.warn(\n",
      "C:\\Users\\mario\\anaconda_v3\\Lib\\site-packages\\CoolProp\\Plots\\Plots.py:217: UserWarning: Detected an incomplete phase envelope, fixing it numerically.\n",
      "  warnings.warn(\"Detected an incomplete phase envelope, fixing it numerically.\")\n"
     ]
    },
    {
     "name": "stdout",
     "output_type": "stream",
     "text": [
      "2023-12-04 11:00:00 2023-12-08 14:00:00\n"
     ]
    },
    {
     "name": "stderr",
     "output_type": "stream",
     "text": [
      "C:\\Users\\mario\\anaconda_v3\\Lib\\site-packages\\CoolProp\\Plots\\Common.py:608: UserWarning: Please use \"calc_sat_range\" to calculate saturation and isoquality lines. Input ranges are discarded.\n",
      "  warnings.warn(\n",
      "C:\\Users\\mario\\anaconda_v3\\Lib\\site-packages\\CoolProp\\Plots\\Plots.py:217: UserWarning: Detected an incomplete phase envelope, fixing it numerically.\n",
      "  warnings.warn(\"Detected an incomplete phase envelope, fixing it numerically.\")\n"
     ]
    },
    {
     "name": "stdout",
     "output_type": "stream",
     "text": [
      "2023-12-04 12:00:00 2023-12-08 14:00:00\n"
     ]
    },
    {
     "name": "stderr",
     "output_type": "stream",
     "text": [
      "C:\\Users\\mario\\anaconda_v3\\Lib\\site-packages\\CoolProp\\Plots\\Common.py:608: UserWarning: Please use \"calc_sat_range\" to calculate saturation and isoquality lines. Input ranges are discarded.\n",
      "  warnings.warn(\n",
      "C:\\Users\\mario\\anaconda_v3\\Lib\\site-packages\\CoolProp\\Plots\\Plots.py:217: UserWarning: Detected an incomplete phase envelope, fixing it numerically.\n",
      "  warnings.warn(\"Detected an incomplete phase envelope, fixing it numerically.\")\n"
     ]
    },
    {
     "name": "stdout",
     "output_type": "stream",
     "text": [
      "2023-12-04 13:00:00 2023-12-08 14:00:00\n"
     ]
    },
    {
     "name": "stderr",
     "output_type": "stream",
     "text": [
      "C:\\Users\\mario\\anaconda_v3\\Lib\\site-packages\\CoolProp\\Plots\\Common.py:608: UserWarning: Please use \"calc_sat_range\" to calculate saturation and isoquality lines. Input ranges are discarded.\n",
      "  warnings.warn(\n",
      "C:\\Users\\mario\\anaconda_v3\\Lib\\site-packages\\CoolProp\\Plots\\Plots.py:217: UserWarning: Detected an incomplete phase envelope, fixing it numerically.\n",
      "  warnings.warn(\"Detected an incomplete phase envelope, fixing it numerically.\")\n"
     ]
    },
    {
     "name": "stdout",
     "output_type": "stream",
     "text": [
      "2023-12-04 14:00:00 2023-12-08 14:00:00\n"
     ]
    },
    {
     "name": "stderr",
     "output_type": "stream",
     "text": [
      "C:\\Users\\mario\\anaconda_v3\\Lib\\site-packages\\CoolProp\\Plots\\Common.py:608: UserWarning: Please use \"calc_sat_range\" to calculate saturation and isoquality lines. Input ranges are discarded.\n",
      "  warnings.warn(\n",
      "C:\\Users\\mario\\anaconda_v3\\Lib\\site-packages\\CoolProp\\Plots\\Plots.py:217: UserWarning: Detected an incomplete phase envelope, fixing it numerically.\n",
      "  warnings.warn(\"Detected an incomplete phase envelope, fixing it numerically.\")\n"
     ]
    },
    {
     "name": "stdout",
     "output_type": "stream",
     "text": [
      "2023-12-04 15:00:00 2023-12-08 14:00:00\n"
     ]
    },
    {
     "name": "stderr",
     "output_type": "stream",
     "text": [
      "C:\\Users\\mario\\anaconda_v3\\Lib\\site-packages\\CoolProp\\Plots\\Common.py:608: UserWarning: Please use \"calc_sat_range\" to calculate saturation and isoquality lines. Input ranges are discarded.\n",
      "  warnings.warn(\n",
      "C:\\Users\\mario\\anaconda_v3\\Lib\\site-packages\\CoolProp\\Plots\\Plots.py:217: UserWarning: Detected an incomplete phase envelope, fixing it numerically.\n",
      "  warnings.warn(\"Detected an incomplete phase envelope, fixing it numerically.\")\n"
     ]
    },
    {
     "name": "stdout",
     "output_type": "stream",
     "text": [
      "2023-12-04 16:00:00 2023-12-08 14:00:00\n"
     ]
    },
    {
     "name": "stderr",
     "output_type": "stream",
     "text": [
      "C:\\Users\\mario\\anaconda_v3\\Lib\\site-packages\\CoolProp\\Plots\\Common.py:608: UserWarning: Please use \"calc_sat_range\" to calculate saturation and isoquality lines. Input ranges are discarded.\n",
      "  warnings.warn(\n",
      "C:\\Users\\mario\\anaconda_v3\\Lib\\site-packages\\CoolProp\\Plots\\Plots.py:217: UserWarning: Detected an incomplete phase envelope, fixing it numerically.\n",
      "  warnings.warn(\"Detected an incomplete phase envelope, fixing it numerically.\")\n"
     ]
    },
    {
     "name": "stdout",
     "output_type": "stream",
     "text": [
      "2023-12-04 17:00:00 2023-12-08 14:00:00\n"
     ]
    },
    {
     "name": "stderr",
     "output_type": "stream",
     "text": [
      "C:\\Users\\mario\\anaconda_v3\\Lib\\site-packages\\CoolProp\\Plots\\Common.py:608: UserWarning: Please use \"calc_sat_range\" to calculate saturation and isoquality lines. Input ranges are discarded.\n",
      "  warnings.warn(\n",
      "C:\\Users\\mario\\anaconda_v3\\Lib\\site-packages\\CoolProp\\Plots\\Plots.py:217: UserWarning: Detected an incomplete phase envelope, fixing it numerically.\n",
      "  warnings.warn(\"Detected an incomplete phase envelope, fixing it numerically.\")\n"
     ]
    },
    {
     "name": "stdout",
     "output_type": "stream",
     "text": [
      "2023-12-04 18:00:00 2023-12-08 14:00:00\n"
     ]
    },
    {
     "name": "stderr",
     "output_type": "stream",
     "text": [
      "C:\\Users\\mario\\anaconda_v3\\Lib\\site-packages\\CoolProp\\Plots\\Common.py:608: UserWarning: Please use \"calc_sat_range\" to calculate saturation and isoquality lines. Input ranges are discarded.\n",
      "  warnings.warn(\n",
      "C:\\Users\\mario\\anaconda_v3\\Lib\\site-packages\\CoolProp\\Plots\\Plots.py:217: UserWarning: Detected an incomplete phase envelope, fixing it numerically.\n",
      "  warnings.warn(\"Detected an incomplete phase envelope, fixing it numerically.\")\n"
     ]
    },
    {
     "name": "stdout",
     "output_type": "stream",
     "text": [
      "2023-12-04 19:00:00 2023-12-08 14:00:00\n"
     ]
    },
    {
     "name": "stderr",
     "output_type": "stream",
     "text": [
      "C:\\Users\\mario\\anaconda_v3\\Lib\\site-packages\\CoolProp\\Plots\\Common.py:608: UserWarning: Please use \"calc_sat_range\" to calculate saturation and isoquality lines. Input ranges are discarded.\n",
      "  warnings.warn(\n",
      "C:\\Users\\mario\\anaconda_v3\\Lib\\site-packages\\CoolProp\\Plots\\Plots.py:217: UserWarning: Detected an incomplete phase envelope, fixing it numerically.\n",
      "  warnings.warn(\"Detected an incomplete phase envelope, fixing it numerically.\")\n"
     ]
    },
    {
     "name": "stdout",
     "output_type": "stream",
     "text": [
      "2023-12-04 20:00:00 2023-12-08 14:00:00\n"
     ]
    },
    {
     "name": "stderr",
     "output_type": "stream",
     "text": [
      "C:\\Users\\mario\\anaconda_v3\\Lib\\site-packages\\CoolProp\\Plots\\Common.py:608: UserWarning: Please use \"calc_sat_range\" to calculate saturation and isoquality lines. Input ranges are discarded.\n",
      "  warnings.warn(\n",
      "C:\\Users\\mario\\anaconda_v3\\Lib\\site-packages\\CoolProp\\Plots\\Plots.py:217: UserWarning: Detected an incomplete phase envelope, fixing it numerically.\n",
      "  warnings.warn(\"Detected an incomplete phase envelope, fixing it numerically.\")\n"
     ]
    },
    {
     "name": "stdout",
     "output_type": "stream",
     "text": [
      "2023-12-04 21:00:00 2023-12-08 14:00:00\n"
     ]
    },
    {
     "name": "stderr",
     "output_type": "stream",
     "text": [
      "C:\\Users\\mario\\anaconda_v3\\Lib\\site-packages\\CoolProp\\Plots\\Common.py:608: UserWarning: Please use \"calc_sat_range\" to calculate saturation and isoquality lines. Input ranges are discarded.\n",
      "  warnings.warn(\n",
      "C:\\Users\\mario\\anaconda_v3\\Lib\\site-packages\\CoolProp\\Plots\\Plots.py:217: UserWarning: Detected an incomplete phase envelope, fixing it numerically.\n",
      "  warnings.warn(\"Detected an incomplete phase envelope, fixing it numerically.\")\n"
     ]
    },
    {
     "name": "stdout",
     "output_type": "stream",
     "text": [
      "2023-12-04 22:00:00 2023-12-08 14:00:00\n"
     ]
    },
    {
     "name": "stderr",
     "output_type": "stream",
     "text": [
      "C:\\Users\\mario\\anaconda_v3\\Lib\\site-packages\\CoolProp\\Plots\\Common.py:608: UserWarning: Please use \"calc_sat_range\" to calculate saturation and isoquality lines. Input ranges are discarded.\n",
      "  warnings.warn(\n",
      "C:\\Users\\mario\\anaconda_v3\\Lib\\site-packages\\CoolProp\\Plots\\Plots.py:217: UserWarning: Detected an incomplete phase envelope, fixing it numerically.\n",
      "  warnings.warn(\"Detected an incomplete phase envelope, fixing it numerically.\")\n"
     ]
    },
    {
     "name": "stdout",
     "output_type": "stream",
     "text": [
      "2023-12-04 23:00:00 2023-12-08 14:00:00\n"
     ]
    },
    {
     "name": "stderr",
     "output_type": "stream",
     "text": [
      "C:\\Users\\mario\\anaconda_v3\\Lib\\site-packages\\CoolProp\\Plots\\Common.py:608: UserWarning: Please use \"calc_sat_range\" to calculate saturation and isoquality lines. Input ranges are discarded.\n",
      "  warnings.warn(\n",
      "C:\\Users\\mario\\anaconda_v3\\Lib\\site-packages\\CoolProp\\Plots\\Plots.py:217: UserWarning: Detected an incomplete phase envelope, fixing it numerically.\n",
      "  warnings.warn(\"Detected an incomplete phase envelope, fixing it numerically.\")\n"
     ]
    },
    {
     "name": "stdout",
     "output_type": "stream",
     "text": [
      "2023-12-05 00:00:00 2023-12-08 14:00:00\n"
     ]
    },
    {
     "name": "stderr",
     "output_type": "stream",
     "text": [
      "C:\\Users\\mario\\anaconda_v3\\Lib\\site-packages\\CoolProp\\Plots\\Common.py:608: UserWarning: Please use \"calc_sat_range\" to calculate saturation and isoquality lines. Input ranges are discarded.\n",
      "  warnings.warn(\n",
      "C:\\Users\\mario\\anaconda_v3\\Lib\\site-packages\\CoolProp\\Plots\\Plots.py:217: UserWarning: Detected an incomplete phase envelope, fixing it numerically.\n",
      "  warnings.warn(\"Detected an incomplete phase envelope, fixing it numerically.\")\n"
     ]
    },
    {
     "name": "stdout",
     "output_type": "stream",
     "text": [
      "2023-12-05 01:00:00 2023-12-08 14:00:00\n"
     ]
    },
    {
     "name": "stderr",
     "output_type": "stream",
     "text": [
      "C:\\Users\\mario\\anaconda_v3\\Lib\\site-packages\\CoolProp\\Plots\\Common.py:608: UserWarning: Please use \"calc_sat_range\" to calculate saturation and isoquality lines. Input ranges are discarded.\n",
      "  warnings.warn(\n",
      "C:\\Users\\mario\\anaconda_v3\\Lib\\site-packages\\CoolProp\\Plots\\Plots.py:217: UserWarning: Detected an incomplete phase envelope, fixing it numerically.\n",
      "  warnings.warn(\"Detected an incomplete phase envelope, fixing it numerically.\")\n"
     ]
    },
    {
     "name": "stdout",
     "output_type": "stream",
     "text": [
      "2023-12-05 02:00:00 2023-12-08 14:00:00\n"
     ]
    },
    {
     "name": "stderr",
     "output_type": "stream",
     "text": [
      "C:\\Users\\mario\\anaconda_v3\\Lib\\site-packages\\CoolProp\\Plots\\Common.py:608: UserWarning: Please use \"calc_sat_range\" to calculate saturation and isoquality lines. Input ranges are discarded.\n",
      "  warnings.warn(\n",
      "C:\\Users\\mario\\anaconda_v3\\Lib\\site-packages\\CoolProp\\Plots\\Plots.py:217: UserWarning: Detected an incomplete phase envelope, fixing it numerically.\n",
      "  warnings.warn(\"Detected an incomplete phase envelope, fixing it numerically.\")\n"
     ]
    },
    {
     "name": "stdout",
     "output_type": "stream",
     "text": [
      "2023-12-05 03:00:00 2023-12-08 14:00:00\n"
     ]
    },
    {
     "name": "stderr",
     "output_type": "stream",
     "text": [
      "C:\\Users\\mario\\anaconda_v3\\Lib\\site-packages\\CoolProp\\Plots\\Common.py:608: UserWarning: Please use \"calc_sat_range\" to calculate saturation and isoquality lines. Input ranges are discarded.\n",
      "  warnings.warn(\n",
      "C:\\Users\\mario\\anaconda_v3\\Lib\\site-packages\\CoolProp\\Plots\\Plots.py:217: UserWarning: Detected an incomplete phase envelope, fixing it numerically.\n",
      "  warnings.warn(\"Detected an incomplete phase envelope, fixing it numerically.\")\n"
     ]
    },
    {
     "name": "stdout",
     "output_type": "stream",
     "text": [
      "2023-12-05 04:00:00 2023-12-08 14:00:00\n"
     ]
    },
    {
     "name": "stderr",
     "output_type": "stream",
     "text": [
      "C:\\Users\\mario\\anaconda_v3\\Lib\\site-packages\\CoolProp\\Plots\\Common.py:608: UserWarning: Please use \"calc_sat_range\" to calculate saturation and isoquality lines. Input ranges are discarded.\n",
      "  warnings.warn(\n",
      "C:\\Users\\mario\\anaconda_v3\\Lib\\site-packages\\CoolProp\\Plots\\Plots.py:217: UserWarning: Detected an incomplete phase envelope, fixing it numerically.\n",
      "  warnings.warn(\"Detected an incomplete phase envelope, fixing it numerically.\")\n"
     ]
    },
    {
     "name": "stdout",
     "output_type": "stream",
     "text": [
      "2023-12-05 05:00:00 2023-12-08 14:00:00\n"
     ]
    },
    {
     "name": "stderr",
     "output_type": "stream",
     "text": [
      "C:\\Users\\mario\\anaconda_v3\\Lib\\site-packages\\CoolProp\\Plots\\Common.py:608: UserWarning: Please use \"calc_sat_range\" to calculate saturation and isoquality lines. Input ranges are discarded.\n",
      "  warnings.warn(\n",
      "C:\\Users\\mario\\anaconda_v3\\Lib\\site-packages\\CoolProp\\Plots\\Plots.py:217: UserWarning: Detected an incomplete phase envelope, fixing it numerically.\n",
      "  warnings.warn(\"Detected an incomplete phase envelope, fixing it numerically.\")\n"
     ]
    },
    {
     "name": "stdout",
     "output_type": "stream",
     "text": [
      "2023-12-05 06:00:00 2023-12-08 14:00:00\n"
     ]
    },
    {
     "name": "stderr",
     "output_type": "stream",
     "text": [
      "C:\\Users\\mario\\anaconda_v3\\Lib\\site-packages\\CoolProp\\Plots\\Common.py:608: UserWarning: Please use \"calc_sat_range\" to calculate saturation and isoquality lines. Input ranges are discarded.\n",
      "  warnings.warn(\n",
      "C:\\Users\\mario\\anaconda_v3\\Lib\\site-packages\\CoolProp\\Plots\\Plots.py:217: UserWarning: Detected an incomplete phase envelope, fixing it numerically.\n",
      "  warnings.warn(\"Detected an incomplete phase envelope, fixing it numerically.\")\n"
     ]
    },
    {
     "name": "stdout",
     "output_type": "stream",
     "text": [
      "2023-12-05 07:00:00 2023-12-08 14:00:00\n"
     ]
    },
    {
     "name": "stderr",
     "output_type": "stream",
     "text": [
      "C:\\Users\\mario\\anaconda_v3\\Lib\\site-packages\\CoolProp\\Plots\\Common.py:608: UserWarning: Please use \"calc_sat_range\" to calculate saturation and isoquality lines. Input ranges are discarded.\n",
      "  warnings.warn(\n",
      "C:\\Users\\mario\\anaconda_v3\\Lib\\site-packages\\CoolProp\\Plots\\Plots.py:217: UserWarning: Detected an incomplete phase envelope, fixing it numerically.\n",
      "  warnings.warn(\"Detected an incomplete phase envelope, fixing it numerically.\")\n"
     ]
    },
    {
     "name": "stdout",
     "output_type": "stream",
     "text": [
      "2023-12-05 08:00:00 2023-12-08 14:00:00\n"
     ]
    },
    {
     "name": "stderr",
     "output_type": "stream",
     "text": [
      "C:\\Users\\mario\\anaconda_v3\\Lib\\site-packages\\CoolProp\\Plots\\Common.py:608: UserWarning: Please use \"calc_sat_range\" to calculate saturation and isoquality lines. Input ranges are discarded.\n",
      "  warnings.warn(\n",
      "C:\\Users\\mario\\anaconda_v3\\Lib\\site-packages\\CoolProp\\Plots\\Plots.py:217: UserWarning: Detected an incomplete phase envelope, fixing it numerically.\n",
      "  warnings.warn(\"Detected an incomplete phase envelope, fixing it numerically.\")\n"
     ]
    },
    {
     "name": "stdout",
     "output_type": "stream",
     "text": [
      "2023-12-05 09:00:00 2023-12-08 14:00:00\n"
     ]
    },
    {
     "name": "stderr",
     "output_type": "stream",
     "text": [
      "C:\\Users\\mario\\anaconda_v3\\Lib\\site-packages\\CoolProp\\Plots\\Common.py:608: UserWarning: Please use \"calc_sat_range\" to calculate saturation and isoquality lines. Input ranges are discarded.\n",
      "  warnings.warn(\n",
      "C:\\Users\\mario\\anaconda_v3\\Lib\\site-packages\\CoolProp\\Plots\\Plots.py:217: UserWarning: Detected an incomplete phase envelope, fixing it numerically.\n",
      "  warnings.warn(\"Detected an incomplete phase envelope, fixing it numerically.\")\n"
     ]
    },
    {
     "name": "stdout",
     "output_type": "stream",
     "text": [
      "2023-12-05 10:00:00 2023-12-08 14:00:00\n"
     ]
    },
    {
     "name": "stderr",
     "output_type": "stream",
     "text": [
      "C:\\Users\\mario\\anaconda_v3\\Lib\\site-packages\\CoolProp\\Plots\\Common.py:608: UserWarning: Please use \"calc_sat_range\" to calculate saturation and isoquality lines. Input ranges are discarded.\n",
      "  warnings.warn(\n",
      "C:\\Users\\mario\\anaconda_v3\\Lib\\site-packages\\CoolProp\\Plots\\Plots.py:217: UserWarning: Detected an incomplete phase envelope, fixing it numerically.\n",
      "  warnings.warn(\"Detected an incomplete phase envelope, fixing it numerically.\")\n"
     ]
    },
    {
     "name": "stdout",
     "output_type": "stream",
     "text": [
      "2023-12-05 11:00:00 2023-12-08 14:00:00\n"
     ]
    },
    {
     "name": "stderr",
     "output_type": "stream",
     "text": [
      "C:\\Users\\mario\\anaconda_v3\\Lib\\site-packages\\CoolProp\\Plots\\Common.py:608: UserWarning: Please use \"calc_sat_range\" to calculate saturation and isoquality lines. Input ranges are discarded.\n",
      "  warnings.warn(\n",
      "C:\\Users\\mario\\anaconda_v3\\Lib\\site-packages\\CoolProp\\Plots\\Plots.py:217: UserWarning: Detected an incomplete phase envelope, fixing it numerically.\n",
      "  warnings.warn(\"Detected an incomplete phase envelope, fixing it numerically.\")\n"
     ]
    },
    {
     "name": "stdout",
     "output_type": "stream",
     "text": [
      "2023-12-05 12:00:00 2023-12-08 14:00:00\n"
     ]
    },
    {
     "name": "stderr",
     "output_type": "stream",
     "text": [
      "C:\\Users\\mario\\anaconda_v3\\Lib\\site-packages\\CoolProp\\Plots\\Common.py:608: UserWarning: Please use \"calc_sat_range\" to calculate saturation and isoquality lines. Input ranges are discarded.\n",
      "  warnings.warn(\n",
      "C:\\Users\\mario\\anaconda_v3\\Lib\\site-packages\\CoolProp\\Plots\\Plots.py:217: UserWarning: Detected an incomplete phase envelope, fixing it numerically.\n",
      "  warnings.warn(\"Detected an incomplete phase envelope, fixing it numerically.\")\n"
     ]
    },
    {
     "name": "stdout",
     "output_type": "stream",
     "text": [
      "2023-12-05 13:00:00 2023-12-08 14:00:00\n"
     ]
    },
    {
     "name": "stderr",
     "output_type": "stream",
     "text": [
      "C:\\Users\\mario\\anaconda_v3\\Lib\\site-packages\\CoolProp\\Plots\\Common.py:608: UserWarning: Please use \"calc_sat_range\" to calculate saturation and isoquality lines. Input ranges are discarded.\n",
      "  warnings.warn(\n",
      "C:\\Users\\mario\\anaconda_v3\\Lib\\site-packages\\CoolProp\\Plots\\Plots.py:217: UserWarning: Detected an incomplete phase envelope, fixing it numerically.\n",
      "  warnings.warn(\"Detected an incomplete phase envelope, fixing it numerically.\")\n"
     ]
    },
    {
     "name": "stdout",
     "output_type": "stream",
     "text": [
      "2023-12-05 14:00:00 2023-12-08 14:00:00\n"
     ]
    },
    {
     "name": "stderr",
     "output_type": "stream",
     "text": [
      "C:\\Users\\mario\\anaconda_v3\\Lib\\site-packages\\CoolProp\\Plots\\Common.py:608: UserWarning: Please use \"calc_sat_range\" to calculate saturation and isoquality lines. Input ranges are discarded.\n",
      "  warnings.warn(\n",
      "C:\\Users\\mario\\anaconda_v3\\Lib\\site-packages\\CoolProp\\Plots\\Plots.py:217: UserWarning: Detected an incomplete phase envelope, fixing it numerically.\n",
      "  warnings.warn(\"Detected an incomplete phase envelope, fixing it numerically.\")\n"
     ]
    },
    {
     "name": "stdout",
     "output_type": "stream",
     "text": [
      "2023-12-05 15:00:00 2023-12-08 14:00:00\n"
     ]
    },
    {
     "name": "stderr",
     "output_type": "stream",
     "text": [
      "C:\\Users\\mario\\anaconda_v3\\Lib\\site-packages\\CoolProp\\Plots\\Common.py:608: UserWarning: Please use \"calc_sat_range\" to calculate saturation and isoquality lines. Input ranges are discarded.\n",
      "  warnings.warn(\n",
      "C:\\Users\\mario\\anaconda_v3\\Lib\\site-packages\\CoolProp\\Plots\\Plots.py:217: UserWarning: Detected an incomplete phase envelope, fixing it numerically.\n",
      "  warnings.warn(\"Detected an incomplete phase envelope, fixing it numerically.\")\n"
     ]
    },
    {
     "name": "stdout",
     "output_type": "stream",
     "text": [
      "2023-12-05 16:00:00 2023-12-08 14:00:00\n"
     ]
    },
    {
     "name": "stderr",
     "output_type": "stream",
     "text": [
      "C:\\Users\\mario\\anaconda_v3\\Lib\\site-packages\\CoolProp\\Plots\\Common.py:608: UserWarning: Please use \"calc_sat_range\" to calculate saturation and isoquality lines. Input ranges are discarded.\n",
      "  warnings.warn(\n",
      "C:\\Users\\mario\\anaconda_v3\\Lib\\site-packages\\CoolProp\\Plots\\Plots.py:217: UserWarning: Detected an incomplete phase envelope, fixing it numerically.\n",
      "  warnings.warn(\"Detected an incomplete phase envelope, fixing it numerically.\")\n"
     ]
    },
    {
     "name": "stdout",
     "output_type": "stream",
     "text": [
      "2023-12-05 17:00:00 2023-12-08 14:00:00\n"
     ]
    },
    {
     "name": "stderr",
     "output_type": "stream",
     "text": [
      "C:\\Users\\mario\\anaconda_v3\\Lib\\site-packages\\CoolProp\\Plots\\Common.py:608: UserWarning: Please use \"calc_sat_range\" to calculate saturation and isoquality lines. Input ranges are discarded.\n",
      "  warnings.warn(\n",
      "C:\\Users\\mario\\anaconda_v3\\Lib\\site-packages\\CoolProp\\Plots\\Plots.py:217: UserWarning: Detected an incomplete phase envelope, fixing it numerically.\n",
      "  warnings.warn(\"Detected an incomplete phase envelope, fixing it numerically.\")\n"
     ]
    },
    {
     "name": "stdout",
     "output_type": "stream",
     "text": [
      "2023-12-05 18:00:00 2023-12-08 14:00:00\n"
     ]
    },
    {
     "name": "stderr",
     "output_type": "stream",
     "text": [
      "C:\\Users\\mario\\anaconda_v3\\Lib\\site-packages\\CoolProp\\Plots\\Common.py:608: UserWarning: Please use \"calc_sat_range\" to calculate saturation and isoquality lines. Input ranges are discarded.\n",
      "  warnings.warn(\n",
      "C:\\Users\\mario\\anaconda_v3\\Lib\\site-packages\\CoolProp\\Plots\\Plots.py:217: UserWarning: Detected an incomplete phase envelope, fixing it numerically.\n",
      "  warnings.warn(\"Detected an incomplete phase envelope, fixing it numerically.\")\n"
     ]
    },
    {
     "name": "stdout",
     "output_type": "stream",
     "text": [
      "2023-12-05 19:00:00 2023-12-08 14:00:00\n"
     ]
    },
    {
     "name": "stderr",
     "output_type": "stream",
     "text": [
      "C:\\Users\\mario\\anaconda_v3\\Lib\\site-packages\\CoolProp\\Plots\\Common.py:608: UserWarning: Please use \"calc_sat_range\" to calculate saturation and isoquality lines. Input ranges are discarded.\n",
      "  warnings.warn(\n",
      "C:\\Users\\mario\\anaconda_v3\\Lib\\site-packages\\CoolProp\\Plots\\Plots.py:217: UserWarning: Detected an incomplete phase envelope, fixing it numerically.\n",
      "  warnings.warn(\"Detected an incomplete phase envelope, fixing it numerically.\")\n"
     ]
    },
    {
     "name": "stdout",
     "output_type": "stream",
     "text": [
      "2023-12-05 20:00:00 2023-12-08 14:00:00\n"
     ]
    },
    {
     "name": "stderr",
     "output_type": "stream",
     "text": [
      "C:\\Users\\mario\\anaconda_v3\\Lib\\site-packages\\CoolProp\\Plots\\Common.py:608: UserWarning: Please use \"calc_sat_range\" to calculate saturation and isoquality lines. Input ranges are discarded.\n",
      "  warnings.warn(\n",
      "C:\\Users\\mario\\anaconda_v3\\Lib\\site-packages\\CoolProp\\Plots\\Plots.py:217: UserWarning: Detected an incomplete phase envelope, fixing it numerically.\n",
      "  warnings.warn(\"Detected an incomplete phase envelope, fixing it numerically.\")\n"
     ]
    },
    {
     "name": "stdout",
     "output_type": "stream",
     "text": [
      "2023-12-05 21:00:00 2023-12-08 14:00:00\n"
     ]
    },
    {
     "name": "stderr",
     "output_type": "stream",
     "text": [
      "C:\\Users\\mario\\anaconda_v3\\Lib\\site-packages\\CoolProp\\Plots\\Common.py:608: UserWarning: Please use \"calc_sat_range\" to calculate saturation and isoquality lines. Input ranges are discarded.\n",
      "  warnings.warn(\n",
      "C:\\Users\\mario\\anaconda_v3\\Lib\\site-packages\\CoolProp\\Plots\\Plots.py:217: UserWarning: Detected an incomplete phase envelope, fixing it numerically.\n",
      "  warnings.warn(\"Detected an incomplete phase envelope, fixing it numerically.\")\n"
     ]
    },
    {
     "name": "stdout",
     "output_type": "stream",
     "text": [
      "2023-12-05 22:00:00 2023-12-08 14:00:00\n"
     ]
    },
    {
     "name": "stderr",
     "output_type": "stream",
     "text": [
      "C:\\Users\\mario\\anaconda_v3\\Lib\\site-packages\\CoolProp\\Plots\\Common.py:608: UserWarning: Please use \"calc_sat_range\" to calculate saturation and isoquality lines. Input ranges are discarded.\n",
      "  warnings.warn(\n",
      "C:\\Users\\mario\\anaconda_v3\\Lib\\site-packages\\CoolProp\\Plots\\Plots.py:217: UserWarning: Detected an incomplete phase envelope, fixing it numerically.\n",
      "  warnings.warn(\"Detected an incomplete phase envelope, fixing it numerically.\")\n"
     ]
    },
    {
     "name": "stdout",
     "output_type": "stream",
     "text": [
      "2023-12-05 23:00:00 2023-12-08 14:00:00\n"
     ]
    },
    {
     "name": "stderr",
     "output_type": "stream",
     "text": [
      "C:\\Users\\mario\\anaconda_v3\\Lib\\site-packages\\CoolProp\\Plots\\Common.py:608: UserWarning: Please use \"calc_sat_range\" to calculate saturation and isoquality lines. Input ranges are discarded.\n",
      "  warnings.warn(\n",
      "C:\\Users\\mario\\anaconda_v3\\Lib\\site-packages\\CoolProp\\Plots\\Plots.py:217: UserWarning: Detected an incomplete phase envelope, fixing it numerically.\n",
      "  warnings.warn(\"Detected an incomplete phase envelope, fixing it numerically.\")\n"
     ]
    },
    {
     "name": "stdout",
     "output_type": "stream",
     "text": [
      "2023-12-06 00:00:00 2023-12-08 14:00:00\n"
     ]
    },
    {
     "name": "stderr",
     "output_type": "stream",
     "text": [
      "C:\\Users\\mario\\anaconda_v3\\Lib\\site-packages\\CoolProp\\Plots\\Common.py:608: UserWarning: Please use \"calc_sat_range\" to calculate saturation and isoquality lines. Input ranges are discarded.\n",
      "  warnings.warn(\n",
      "C:\\Users\\mario\\anaconda_v3\\Lib\\site-packages\\CoolProp\\Plots\\Plots.py:217: UserWarning: Detected an incomplete phase envelope, fixing it numerically.\n",
      "  warnings.warn(\"Detected an incomplete phase envelope, fixing it numerically.\")\n"
     ]
    },
    {
     "name": "stdout",
     "output_type": "stream",
     "text": [
      "2023-12-06 01:00:00 2023-12-08 14:00:00\n"
     ]
    },
    {
     "name": "stderr",
     "output_type": "stream",
     "text": [
      "C:\\Users\\mario\\anaconda_v3\\Lib\\site-packages\\CoolProp\\Plots\\Common.py:608: UserWarning: Please use \"calc_sat_range\" to calculate saturation and isoquality lines. Input ranges are discarded.\n",
      "  warnings.warn(\n",
      "C:\\Users\\mario\\anaconda_v3\\Lib\\site-packages\\CoolProp\\Plots\\Plots.py:217: UserWarning: Detected an incomplete phase envelope, fixing it numerically.\n",
      "  warnings.warn(\"Detected an incomplete phase envelope, fixing it numerically.\")\n"
     ]
    },
    {
     "name": "stdout",
     "output_type": "stream",
     "text": [
      "2023-12-06 02:00:00 2023-12-08 14:00:00\n"
     ]
    },
    {
     "name": "stderr",
     "output_type": "stream",
     "text": [
      "C:\\Users\\mario\\anaconda_v3\\Lib\\site-packages\\CoolProp\\Plots\\Common.py:608: UserWarning: Please use \"calc_sat_range\" to calculate saturation and isoquality lines. Input ranges are discarded.\n",
      "  warnings.warn(\n",
      "C:\\Users\\mario\\anaconda_v3\\Lib\\site-packages\\CoolProp\\Plots\\Plots.py:217: UserWarning: Detected an incomplete phase envelope, fixing it numerically.\n",
      "  warnings.warn(\"Detected an incomplete phase envelope, fixing it numerically.\")\n"
     ]
    },
    {
     "name": "stdout",
     "output_type": "stream",
     "text": [
      "2023-12-06 03:00:00 2023-12-08 14:00:00\n"
     ]
    },
    {
     "name": "stderr",
     "output_type": "stream",
     "text": [
      "C:\\Users\\mario\\anaconda_v3\\Lib\\site-packages\\CoolProp\\Plots\\Common.py:608: UserWarning: Please use \"calc_sat_range\" to calculate saturation and isoquality lines. Input ranges are discarded.\n",
      "  warnings.warn(\n",
      "C:\\Users\\mario\\anaconda_v3\\Lib\\site-packages\\CoolProp\\Plots\\Plots.py:217: UserWarning: Detected an incomplete phase envelope, fixing it numerically.\n",
      "  warnings.warn(\"Detected an incomplete phase envelope, fixing it numerically.\")\n"
     ]
    },
    {
     "name": "stdout",
     "output_type": "stream",
     "text": [
      "2023-12-06 04:00:00 2023-12-08 14:00:00\n"
     ]
    },
    {
     "name": "stderr",
     "output_type": "stream",
     "text": [
      "C:\\Users\\mario\\anaconda_v3\\Lib\\site-packages\\CoolProp\\Plots\\Common.py:608: UserWarning: Please use \"calc_sat_range\" to calculate saturation and isoquality lines. Input ranges are discarded.\n",
      "  warnings.warn(\n",
      "C:\\Users\\mario\\anaconda_v3\\Lib\\site-packages\\CoolProp\\Plots\\Plots.py:217: UserWarning: Detected an incomplete phase envelope, fixing it numerically.\n",
      "  warnings.warn(\"Detected an incomplete phase envelope, fixing it numerically.\")\n"
     ]
    },
    {
     "name": "stdout",
     "output_type": "stream",
     "text": [
      "2023-12-06 05:00:00 2023-12-08 14:00:00\n"
     ]
    },
    {
     "name": "stderr",
     "output_type": "stream",
     "text": [
      "C:\\Users\\mario\\anaconda_v3\\Lib\\site-packages\\CoolProp\\Plots\\Common.py:608: UserWarning: Please use \"calc_sat_range\" to calculate saturation and isoquality lines. Input ranges are discarded.\n",
      "  warnings.warn(\n",
      "C:\\Users\\mario\\anaconda_v3\\Lib\\site-packages\\CoolProp\\Plots\\Plots.py:217: UserWarning: Detected an incomplete phase envelope, fixing it numerically.\n",
      "  warnings.warn(\"Detected an incomplete phase envelope, fixing it numerically.\")\n"
     ]
    },
    {
     "name": "stdout",
     "output_type": "stream",
     "text": [
      "2023-12-06 06:00:00 2023-12-08 14:00:00\n"
     ]
    },
    {
     "name": "stderr",
     "output_type": "stream",
     "text": [
      "C:\\Users\\mario\\anaconda_v3\\Lib\\site-packages\\CoolProp\\Plots\\Common.py:608: UserWarning: Please use \"calc_sat_range\" to calculate saturation and isoquality lines. Input ranges are discarded.\n",
      "  warnings.warn(\n",
      "C:\\Users\\mario\\anaconda_v3\\Lib\\site-packages\\CoolProp\\Plots\\Plots.py:217: UserWarning: Detected an incomplete phase envelope, fixing it numerically.\n",
      "  warnings.warn(\"Detected an incomplete phase envelope, fixing it numerically.\")\n"
     ]
    },
    {
     "name": "stdout",
     "output_type": "stream",
     "text": [
      "2023-12-06 07:00:00 2023-12-08 14:00:00\n"
     ]
    },
    {
     "name": "stderr",
     "output_type": "stream",
     "text": [
      "C:\\Users\\mario\\anaconda_v3\\Lib\\site-packages\\CoolProp\\Plots\\Common.py:608: UserWarning: Please use \"calc_sat_range\" to calculate saturation and isoquality lines. Input ranges are discarded.\n",
      "  warnings.warn(\n",
      "C:\\Users\\mario\\anaconda_v3\\Lib\\site-packages\\CoolProp\\Plots\\Plots.py:217: UserWarning: Detected an incomplete phase envelope, fixing it numerically.\n",
      "  warnings.warn(\"Detected an incomplete phase envelope, fixing it numerically.\")\n"
     ]
    },
    {
     "name": "stdout",
     "output_type": "stream",
     "text": [
      "2023-12-06 08:00:00 2023-12-08 14:00:00\n"
     ]
    },
    {
     "name": "stderr",
     "output_type": "stream",
     "text": [
      "C:\\Users\\mario\\anaconda_v3\\Lib\\site-packages\\CoolProp\\Plots\\Common.py:608: UserWarning: Please use \"calc_sat_range\" to calculate saturation and isoquality lines. Input ranges are discarded.\n",
      "  warnings.warn(\n",
      "C:\\Users\\mario\\anaconda_v3\\Lib\\site-packages\\CoolProp\\Plots\\Plots.py:217: UserWarning: Detected an incomplete phase envelope, fixing it numerically.\n",
      "  warnings.warn(\"Detected an incomplete phase envelope, fixing it numerically.\")\n"
     ]
    },
    {
     "name": "stdout",
     "output_type": "stream",
     "text": [
      "2023-12-06 09:00:00 2023-12-08 14:00:00\n"
     ]
    },
    {
     "name": "stderr",
     "output_type": "stream",
     "text": [
      "C:\\Users\\mario\\anaconda_v3\\Lib\\site-packages\\CoolProp\\Plots\\Common.py:608: UserWarning: Please use \"calc_sat_range\" to calculate saturation and isoquality lines. Input ranges are discarded.\n",
      "  warnings.warn(\n",
      "C:\\Users\\mario\\anaconda_v3\\Lib\\site-packages\\CoolProp\\Plots\\Plots.py:217: UserWarning: Detected an incomplete phase envelope, fixing it numerically.\n",
      "  warnings.warn(\"Detected an incomplete phase envelope, fixing it numerically.\")\n"
     ]
    },
    {
     "name": "stdout",
     "output_type": "stream",
     "text": [
      "2023-12-06 10:00:00 2023-12-08 14:00:00\n"
     ]
    },
    {
     "name": "stderr",
     "output_type": "stream",
     "text": [
      "C:\\Users\\mario\\anaconda_v3\\Lib\\site-packages\\CoolProp\\Plots\\Common.py:608: UserWarning: Please use \"calc_sat_range\" to calculate saturation and isoquality lines. Input ranges are discarded.\n",
      "  warnings.warn(\n",
      "C:\\Users\\mario\\anaconda_v3\\Lib\\site-packages\\CoolProp\\Plots\\Plots.py:217: UserWarning: Detected an incomplete phase envelope, fixing it numerically.\n",
      "  warnings.warn(\"Detected an incomplete phase envelope, fixing it numerically.\")\n"
     ]
    },
    {
     "name": "stdout",
     "output_type": "stream",
     "text": [
      "2023-12-06 11:00:00 2023-12-08 14:00:00\n"
     ]
    },
    {
     "name": "stderr",
     "output_type": "stream",
     "text": [
      "C:\\Users\\mario\\anaconda_v3\\Lib\\site-packages\\CoolProp\\Plots\\Common.py:608: UserWarning: Please use \"calc_sat_range\" to calculate saturation and isoquality lines. Input ranges are discarded.\n",
      "  warnings.warn(\n",
      "C:\\Users\\mario\\anaconda_v3\\Lib\\site-packages\\CoolProp\\Plots\\Plots.py:217: UserWarning: Detected an incomplete phase envelope, fixing it numerically.\n",
      "  warnings.warn(\"Detected an incomplete phase envelope, fixing it numerically.\")\n"
     ]
    },
    {
     "name": "stdout",
     "output_type": "stream",
     "text": [
      "2023-12-06 12:00:00 2023-12-08 14:00:00\n"
     ]
    },
    {
     "name": "stderr",
     "output_type": "stream",
     "text": [
      "C:\\Users\\mario\\anaconda_v3\\Lib\\site-packages\\CoolProp\\Plots\\Common.py:608: UserWarning: Please use \"calc_sat_range\" to calculate saturation and isoquality lines. Input ranges are discarded.\n",
      "  warnings.warn(\n",
      "C:\\Users\\mario\\anaconda_v3\\Lib\\site-packages\\CoolProp\\Plots\\Plots.py:217: UserWarning: Detected an incomplete phase envelope, fixing it numerically.\n",
      "  warnings.warn(\"Detected an incomplete phase envelope, fixing it numerically.\")\n"
     ]
    },
    {
     "name": "stdout",
     "output_type": "stream",
     "text": [
      "2023-12-06 13:00:00 2023-12-08 14:00:00\n"
     ]
    },
    {
     "name": "stderr",
     "output_type": "stream",
     "text": [
      "C:\\Users\\mario\\anaconda_v3\\Lib\\site-packages\\CoolProp\\Plots\\Common.py:608: UserWarning: Please use \"calc_sat_range\" to calculate saturation and isoquality lines. Input ranges are discarded.\n",
      "  warnings.warn(\n",
      "C:\\Users\\mario\\anaconda_v3\\Lib\\site-packages\\CoolProp\\Plots\\Plots.py:217: UserWarning: Detected an incomplete phase envelope, fixing it numerically.\n",
      "  warnings.warn(\"Detected an incomplete phase envelope, fixing it numerically.\")\n"
     ]
    },
    {
     "name": "stdout",
     "output_type": "stream",
     "text": [
      "2023-12-06 14:00:00 2023-12-08 14:00:00\n"
     ]
    },
    {
     "name": "stderr",
     "output_type": "stream",
     "text": [
      "C:\\Users\\mario\\anaconda_v3\\Lib\\site-packages\\CoolProp\\Plots\\Common.py:608: UserWarning: Please use \"calc_sat_range\" to calculate saturation and isoquality lines. Input ranges are discarded.\n",
      "  warnings.warn(\n",
      "C:\\Users\\mario\\anaconda_v3\\Lib\\site-packages\\CoolProp\\Plots\\Plots.py:217: UserWarning: Detected an incomplete phase envelope, fixing it numerically.\n",
      "  warnings.warn(\"Detected an incomplete phase envelope, fixing it numerically.\")\n"
     ]
    },
    {
     "name": "stdout",
     "output_type": "stream",
     "text": [
      "2023-12-06 15:00:00 2023-12-08 14:00:00\n"
     ]
    },
    {
     "name": "stderr",
     "output_type": "stream",
     "text": [
      "C:\\Users\\mario\\anaconda_v3\\Lib\\site-packages\\CoolProp\\Plots\\Common.py:608: UserWarning: Please use \"calc_sat_range\" to calculate saturation and isoquality lines. Input ranges are discarded.\n",
      "  warnings.warn(\n",
      "C:\\Users\\mario\\anaconda_v3\\Lib\\site-packages\\CoolProp\\Plots\\Plots.py:217: UserWarning: Detected an incomplete phase envelope, fixing it numerically.\n",
      "  warnings.warn(\"Detected an incomplete phase envelope, fixing it numerically.\")\n"
     ]
    },
    {
     "name": "stdout",
     "output_type": "stream",
     "text": [
      "2023-12-06 16:00:00 2023-12-08 14:00:00\n"
     ]
    },
    {
     "name": "stderr",
     "output_type": "stream",
     "text": [
      "C:\\Users\\mario\\anaconda_v3\\Lib\\site-packages\\CoolProp\\Plots\\Common.py:608: UserWarning: Please use \"calc_sat_range\" to calculate saturation and isoquality lines. Input ranges are discarded.\n",
      "  warnings.warn(\n",
      "C:\\Users\\mario\\anaconda_v3\\Lib\\site-packages\\CoolProp\\Plots\\Plots.py:217: UserWarning: Detected an incomplete phase envelope, fixing it numerically.\n",
      "  warnings.warn(\"Detected an incomplete phase envelope, fixing it numerically.\")\n"
     ]
    },
    {
     "name": "stdout",
     "output_type": "stream",
     "text": [
      "2023-12-06 17:00:00 2023-12-08 14:00:00\n"
     ]
    },
    {
     "name": "stderr",
     "output_type": "stream",
     "text": [
      "C:\\Users\\mario\\anaconda_v3\\Lib\\site-packages\\CoolProp\\Plots\\Common.py:608: UserWarning: Please use \"calc_sat_range\" to calculate saturation and isoquality lines. Input ranges are discarded.\n",
      "  warnings.warn(\n",
      "C:\\Users\\mario\\anaconda_v3\\Lib\\site-packages\\CoolProp\\Plots\\Plots.py:217: UserWarning: Detected an incomplete phase envelope, fixing it numerically.\n",
      "  warnings.warn(\"Detected an incomplete phase envelope, fixing it numerically.\")\n"
     ]
    },
    {
     "name": "stdout",
     "output_type": "stream",
     "text": [
      "2023-12-06 18:00:00 2023-12-08 14:00:00\n"
     ]
    },
    {
     "name": "stderr",
     "output_type": "stream",
     "text": [
      "C:\\Users\\mario\\anaconda_v3\\Lib\\site-packages\\CoolProp\\Plots\\Common.py:608: UserWarning: Please use \"calc_sat_range\" to calculate saturation and isoquality lines. Input ranges are discarded.\n",
      "  warnings.warn(\n",
      "C:\\Users\\mario\\anaconda_v3\\Lib\\site-packages\\CoolProp\\Plots\\Plots.py:217: UserWarning: Detected an incomplete phase envelope, fixing it numerically.\n",
      "  warnings.warn(\"Detected an incomplete phase envelope, fixing it numerically.\")\n"
     ]
    },
    {
     "name": "stdout",
     "output_type": "stream",
     "text": [
      "2023-12-06 19:00:00 2023-12-08 14:00:00\n"
     ]
    },
    {
     "name": "stderr",
     "output_type": "stream",
     "text": [
      "C:\\Users\\mario\\anaconda_v3\\Lib\\site-packages\\CoolProp\\Plots\\Common.py:608: UserWarning: Please use \"calc_sat_range\" to calculate saturation and isoquality lines. Input ranges are discarded.\n",
      "  warnings.warn(\n",
      "C:\\Users\\mario\\anaconda_v3\\Lib\\site-packages\\CoolProp\\Plots\\Plots.py:217: UserWarning: Detected an incomplete phase envelope, fixing it numerically.\n",
      "  warnings.warn(\"Detected an incomplete phase envelope, fixing it numerically.\")\n"
     ]
    },
    {
     "name": "stdout",
     "output_type": "stream",
     "text": [
      "2023-12-06 20:00:00 2023-12-08 14:00:00\n"
     ]
    },
    {
     "name": "stderr",
     "output_type": "stream",
     "text": [
      "C:\\Users\\mario\\anaconda_v3\\Lib\\site-packages\\CoolProp\\Plots\\Common.py:608: UserWarning: Please use \"calc_sat_range\" to calculate saturation and isoquality lines. Input ranges are discarded.\n",
      "  warnings.warn(\n",
      "C:\\Users\\mario\\anaconda_v3\\Lib\\site-packages\\CoolProp\\Plots\\Plots.py:217: UserWarning: Detected an incomplete phase envelope, fixing it numerically.\n",
      "  warnings.warn(\"Detected an incomplete phase envelope, fixing it numerically.\")\n"
     ]
    },
    {
     "name": "stdout",
     "output_type": "stream",
     "text": [
      "2023-12-06 21:00:00 2023-12-08 14:00:00\n"
     ]
    },
    {
     "name": "stderr",
     "output_type": "stream",
     "text": [
      "C:\\Users\\mario\\anaconda_v3\\Lib\\site-packages\\CoolProp\\Plots\\Common.py:608: UserWarning: Please use \"calc_sat_range\" to calculate saturation and isoquality lines. Input ranges are discarded.\n",
      "  warnings.warn(\n",
      "C:\\Users\\mario\\anaconda_v3\\Lib\\site-packages\\CoolProp\\Plots\\Plots.py:217: UserWarning: Detected an incomplete phase envelope, fixing it numerically.\n",
      "  warnings.warn(\"Detected an incomplete phase envelope, fixing it numerically.\")\n"
     ]
    },
    {
     "name": "stdout",
     "output_type": "stream",
     "text": [
      "2023-12-06 22:00:00 2023-12-08 14:00:00\n"
     ]
    },
    {
     "name": "stderr",
     "output_type": "stream",
     "text": [
      "C:\\Users\\mario\\anaconda_v3\\Lib\\site-packages\\CoolProp\\Plots\\Common.py:608: UserWarning: Please use \"calc_sat_range\" to calculate saturation and isoquality lines. Input ranges are discarded.\n",
      "  warnings.warn(\n",
      "C:\\Users\\mario\\anaconda_v3\\Lib\\site-packages\\CoolProp\\Plots\\Plots.py:217: UserWarning: Detected an incomplete phase envelope, fixing it numerically.\n",
      "  warnings.warn(\"Detected an incomplete phase envelope, fixing it numerically.\")\n"
     ]
    },
    {
     "name": "stdout",
     "output_type": "stream",
     "text": [
      "2023-12-06 23:00:00 2023-12-08 14:00:00\n"
     ]
    },
    {
     "name": "stderr",
     "output_type": "stream",
     "text": [
      "C:\\Users\\mario\\anaconda_v3\\Lib\\site-packages\\CoolProp\\Plots\\Common.py:608: UserWarning: Please use \"calc_sat_range\" to calculate saturation and isoquality lines. Input ranges are discarded.\n",
      "  warnings.warn(\n",
      "C:\\Users\\mario\\anaconda_v3\\Lib\\site-packages\\CoolProp\\Plots\\Plots.py:217: UserWarning: Detected an incomplete phase envelope, fixing it numerically.\n",
      "  warnings.warn(\"Detected an incomplete phase envelope, fixing it numerically.\")\n"
     ]
    },
    {
     "name": "stdout",
     "output_type": "stream",
     "text": [
      "2023-12-07 00:00:00 2023-12-08 14:00:00\n"
     ]
    },
    {
     "name": "stderr",
     "output_type": "stream",
     "text": [
      "C:\\Users\\mario\\anaconda_v3\\Lib\\site-packages\\CoolProp\\Plots\\Common.py:608: UserWarning: Please use \"calc_sat_range\" to calculate saturation and isoquality lines. Input ranges are discarded.\n",
      "  warnings.warn(\n",
      "C:\\Users\\mario\\anaconda_v3\\Lib\\site-packages\\CoolProp\\Plots\\Plots.py:217: UserWarning: Detected an incomplete phase envelope, fixing it numerically.\n",
      "  warnings.warn(\"Detected an incomplete phase envelope, fixing it numerically.\")\n"
     ]
    },
    {
     "name": "stdout",
     "output_type": "stream",
     "text": [
      "2023-12-07 01:00:00 2023-12-08 14:00:00\n"
     ]
    },
    {
     "name": "stderr",
     "output_type": "stream",
     "text": [
      "C:\\Users\\mario\\anaconda_v3\\Lib\\site-packages\\CoolProp\\Plots\\Common.py:608: UserWarning: Please use \"calc_sat_range\" to calculate saturation and isoquality lines. Input ranges are discarded.\n",
      "  warnings.warn(\n",
      "C:\\Users\\mario\\anaconda_v3\\Lib\\site-packages\\CoolProp\\Plots\\Plots.py:217: UserWarning: Detected an incomplete phase envelope, fixing it numerically.\n",
      "  warnings.warn(\"Detected an incomplete phase envelope, fixing it numerically.\")\n"
     ]
    },
    {
     "name": "stdout",
     "output_type": "stream",
     "text": [
      "2023-12-07 02:00:00 2023-12-08 14:00:00\n"
     ]
    },
    {
     "name": "stderr",
     "output_type": "stream",
     "text": [
      "C:\\Users\\mario\\anaconda_v3\\Lib\\site-packages\\CoolProp\\Plots\\Common.py:608: UserWarning: Please use \"calc_sat_range\" to calculate saturation and isoquality lines. Input ranges are discarded.\n",
      "  warnings.warn(\n",
      "C:\\Users\\mario\\anaconda_v3\\Lib\\site-packages\\CoolProp\\Plots\\Plots.py:217: UserWarning: Detected an incomplete phase envelope, fixing it numerically.\n",
      "  warnings.warn(\"Detected an incomplete phase envelope, fixing it numerically.\")\n"
     ]
    },
    {
     "name": "stdout",
     "output_type": "stream",
     "text": [
      "2023-12-07 03:00:00 2023-12-08 14:00:00\n"
     ]
    },
    {
     "name": "stderr",
     "output_type": "stream",
     "text": [
      "C:\\Users\\mario\\anaconda_v3\\Lib\\site-packages\\CoolProp\\Plots\\Common.py:608: UserWarning: Please use \"calc_sat_range\" to calculate saturation and isoquality lines. Input ranges are discarded.\n",
      "  warnings.warn(\n",
      "C:\\Users\\mario\\anaconda_v3\\Lib\\site-packages\\CoolProp\\Plots\\Plots.py:217: UserWarning: Detected an incomplete phase envelope, fixing it numerically.\n",
      "  warnings.warn(\"Detected an incomplete phase envelope, fixing it numerically.\")\n"
     ]
    },
    {
     "name": "stdout",
     "output_type": "stream",
     "text": [
      "2023-12-07 04:00:00 2023-12-08 14:00:00\n"
     ]
    },
    {
     "name": "stderr",
     "output_type": "stream",
     "text": [
      "C:\\Users\\mario\\anaconda_v3\\Lib\\site-packages\\CoolProp\\Plots\\Common.py:608: UserWarning: Please use \"calc_sat_range\" to calculate saturation and isoquality lines. Input ranges are discarded.\n",
      "  warnings.warn(\n",
      "C:\\Users\\mario\\anaconda_v3\\Lib\\site-packages\\CoolProp\\Plots\\Plots.py:217: UserWarning: Detected an incomplete phase envelope, fixing it numerically.\n",
      "  warnings.warn(\"Detected an incomplete phase envelope, fixing it numerically.\")\n"
     ]
    },
    {
     "name": "stdout",
     "output_type": "stream",
     "text": [
      "2023-12-07 05:00:00 2023-12-08 14:00:00\n"
     ]
    },
    {
     "name": "stderr",
     "output_type": "stream",
     "text": [
      "C:\\Users\\mario\\anaconda_v3\\Lib\\site-packages\\CoolProp\\Plots\\Common.py:608: UserWarning: Please use \"calc_sat_range\" to calculate saturation and isoquality lines. Input ranges are discarded.\n",
      "  warnings.warn(\n",
      "C:\\Users\\mario\\anaconda_v3\\Lib\\site-packages\\CoolProp\\Plots\\Plots.py:217: UserWarning: Detected an incomplete phase envelope, fixing it numerically.\n",
      "  warnings.warn(\"Detected an incomplete phase envelope, fixing it numerically.\")\n"
     ]
    },
    {
     "name": "stdout",
     "output_type": "stream",
     "text": [
      "2023-12-07 06:00:00 2023-12-08 14:00:00\n"
     ]
    },
    {
     "name": "stderr",
     "output_type": "stream",
     "text": [
      "C:\\Users\\mario\\anaconda_v3\\Lib\\site-packages\\CoolProp\\Plots\\Common.py:608: UserWarning: Please use \"calc_sat_range\" to calculate saturation and isoquality lines. Input ranges are discarded.\n",
      "  warnings.warn(\n",
      "C:\\Users\\mario\\anaconda_v3\\Lib\\site-packages\\CoolProp\\Plots\\Plots.py:217: UserWarning: Detected an incomplete phase envelope, fixing it numerically.\n",
      "  warnings.warn(\"Detected an incomplete phase envelope, fixing it numerically.\")\n"
     ]
    },
    {
     "name": "stdout",
     "output_type": "stream",
     "text": [
      "2023-12-07 07:00:00 2023-12-08 14:00:00\n"
     ]
    },
    {
     "name": "stderr",
     "output_type": "stream",
     "text": [
      "C:\\Users\\mario\\anaconda_v3\\Lib\\site-packages\\CoolProp\\Plots\\Common.py:608: UserWarning: Please use \"calc_sat_range\" to calculate saturation and isoquality lines. Input ranges are discarded.\n",
      "  warnings.warn(\n",
      "C:\\Users\\mario\\anaconda_v3\\Lib\\site-packages\\CoolProp\\Plots\\Plots.py:217: UserWarning: Detected an incomplete phase envelope, fixing it numerically.\n",
      "  warnings.warn(\"Detected an incomplete phase envelope, fixing it numerically.\")\n"
     ]
    },
    {
     "name": "stdout",
     "output_type": "stream",
     "text": [
      "2023-12-07 08:00:00 2023-12-08 14:00:00\n"
     ]
    },
    {
     "name": "stderr",
     "output_type": "stream",
     "text": [
      "C:\\Users\\mario\\anaconda_v3\\Lib\\site-packages\\CoolProp\\Plots\\Common.py:608: UserWarning: Please use \"calc_sat_range\" to calculate saturation and isoquality lines. Input ranges are discarded.\n",
      "  warnings.warn(\n",
      "C:\\Users\\mario\\anaconda_v3\\Lib\\site-packages\\CoolProp\\Plots\\Plots.py:217: UserWarning: Detected an incomplete phase envelope, fixing it numerically.\n",
      "  warnings.warn(\"Detected an incomplete phase envelope, fixing it numerically.\")\n"
     ]
    },
    {
     "name": "stdout",
     "output_type": "stream",
     "text": [
      "2023-12-07 09:00:00 2023-12-08 14:00:00\n"
     ]
    },
    {
     "name": "stderr",
     "output_type": "stream",
     "text": [
      "C:\\Users\\mario\\anaconda_v3\\Lib\\site-packages\\CoolProp\\Plots\\Common.py:608: UserWarning: Please use \"calc_sat_range\" to calculate saturation and isoquality lines. Input ranges are discarded.\n",
      "  warnings.warn(\n",
      "C:\\Users\\mario\\anaconda_v3\\Lib\\site-packages\\CoolProp\\Plots\\Plots.py:217: UserWarning: Detected an incomplete phase envelope, fixing it numerically.\n",
      "  warnings.warn(\"Detected an incomplete phase envelope, fixing it numerically.\")\n"
     ]
    },
    {
     "name": "stdout",
     "output_type": "stream",
     "text": [
      "2023-12-07 10:00:00 2023-12-08 14:00:00\n"
     ]
    },
    {
     "name": "stderr",
     "output_type": "stream",
     "text": [
      "C:\\Users\\mario\\anaconda_v3\\Lib\\site-packages\\CoolProp\\Plots\\Common.py:608: UserWarning: Please use \"calc_sat_range\" to calculate saturation and isoquality lines. Input ranges are discarded.\n",
      "  warnings.warn(\n",
      "C:\\Users\\mario\\anaconda_v3\\Lib\\site-packages\\CoolProp\\Plots\\Plots.py:217: UserWarning: Detected an incomplete phase envelope, fixing it numerically.\n",
      "  warnings.warn(\"Detected an incomplete phase envelope, fixing it numerically.\")\n"
     ]
    },
    {
     "name": "stdout",
     "output_type": "stream",
     "text": [
      "2023-12-07 11:00:00 2023-12-08 14:00:00\n"
     ]
    },
    {
     "name": "stderr",
     "output_type": "stream",
     "text": [
      "C:\\Users\\mario\\anaconda_v3\\Lib\\site-packages\\CoolProp\\Plots\\Common.py:608: UserWarning: Please use \"calc_sat_range\" to calculate saturation and isoquality lines. Input ranges are discarded.\n",
      "  warnings.warn(\n",
      "C:\\Users\\mario\\anaconda_v3\\Lib\\site-packages\\CoolProp\\Plots\\Plots.py:217: UserWarning: Detected an incomplete phase envelope, fixing it numerically.\n",
      "  warnings.warn(\"Detected an incomplete phase envelope, fixing it numerically.\")\n"
     ]
    },
    {
     "name": "stdout",
     "output_type": "stream",
     "text": [
      "2023-12-07 12:00:00 2023-12-08 14:00:00\n"
     ]
    },
    {
     "name": "stderr",
     "output_type": "stream",
     "text": [
      "C:\\Users\\mario\\anaconda_v3\\Lib\\site-packages\\CoolProp\\Plots\\Common.py:608: UserWarning: Please use \"calc_sat_range\" to calculate saturation and isoquality lines. Input ranges are discarded.\n",
      "  warnings.warn(\n",
      "C:\\Users\\mario\\anaconda_v3\\Lib\\site-packages\\CoolProp\\Plots\\Plots.py:217: UserWarning: Detected an incomplete phase envelope, fixing it numerically.\n",
      "  warnings.warn(\"Detected an incomplete phase envelope, fixing it numerically.\")\n"
     ]
    },
    {
     "name": "stdout",
     "output_type": "stream",
     "text": [
      "2023-12-07 13:00:00 2023-12-08 14:00:00\n"
     ]
    },
    {
     "name": "stderr",
     "output_type": "stream",
     "text": [
      "C:\\Users\\mario\\anaconda_v3\\Lib\\site-packages\\CoolProp\\Plots\\Common.py:608: UserWarning: Please use \"calc_sat_range\" to calculate saturation and isoquality lines. Input ranges are discarded.\n",
      "  warnings.warn(\n",
      "C:\\Users\\mario\\anaconda_v3\\Lib\\site-packages\\CoolProp\\Plots\\Plots.py:217: UserWarning: Detected an incomplete phase envelope, fixing it numerically.\n",
      "  warnings.warn(\"Detected an incomplete phase envelope, fixing it numerically.\")\n"
     ]
    },
    {
     "name": "stdout",
     "output_type": "stream",
     "text": [
      "2023-12-07 14:00:00 2023-12-08 14:00:00\n"
     ]
    },
    {
     "name": "stderr",
     "output_type": "stream",
     "text": [
      "C:\\Users\\mario\\anaconda_v3\\Lib\\site-packages\\CoolProp\\Plots\\Common.py:608: UserWarning: Please use \"calc_sat_range\" to calculate saturation and isoquality lines. Input ranges are discarded.\n",
      "  warnings.warn(\n",
      "C:\\Users\\mario\\anaconda_v3\\Lib\\site-packages\\CoolProp\\Plots\\Plots.py:217: UserWarning: Detected an incomplete phase envelope, fixing it numerically.\n",
      "  warnings.warn(\"Detected an incomplete phase envelope, fixing it numerically.\")\n"
     ]
    },
    {
     "name": "stdout",
     "output_type": "stream",
     "text": [
      "2023-12-07 15:00:00 2023-12-08 14:00:00\n"
     ]
    },
    {
     "name": "stderr",
     "output_type": "stream",
     "text": [
      "C:\\Users\\mario\\anaconda_v3\\Lib\\site-packages\\CoolProp\\Plots\\Common.py:608: UserWarning: Please use \"calc_sat_range\" to calculate saturation and isoquality lines. Input ranges are discarded.\n",
      "  warnings.warn(\n",
      "C:\\Users\\mario\\anaconda_v3\\Lib\\site-packages\\CoolProp\\Plots\\Plots.py:217: UserWarning: Detected an incomplete phase envelope, fixing it numerically.\n",
      "  warnings.warn(\"Detected an incomplete phase envelope, fixing it numerically.\")\n"
     ]
    },
    {
     "name": "stdout",
     "output_type": "stream",
     "text": [
      "2023-12-07 16:00:00 2023-12-08 14:00:00\n"
     ]
    },
    {
     "name": "stderr",
     "output_type": "stream",
     "text": [
      "C:\\Users\\mario\\anaconda_v3\\Lib\\site-packages\\CoolProp\\Plots\\Common.py:608: UserWarning: Please use \"calc_sat_range\" to calculate saturation and isoquality lines. Input ranges are discarded.\n",
      "  warnings.warn(\n",
      "C:\\Users\\mario\\anaconda_v3\\Lib\\site-packages\\CoolProp\\Plots\\Plots.py:217: UserWarning: Detected an incomplete phase envelope, fixing it numerically.\n",
      "  warnings.warn(\"Detected an incomplete phase envelope, fixing it numerically.\")\n"
     ]
    },
    {
     "name": "stdout",
     "output_type": "stream",
     "text": [
      "2023-12-07 17:00:00 2023-12-08 14:00:00\n"
     ]
    },
    {
     "name": "stderr",
     "output_type": "stream",
     "text": [
      "C:\\Users\\mario\\anaconda_v3\\Lib\\site-packages\\CoolProp\\Plots\\Common.py:608: UserWarning: Please use \"calc_sat_range\" to calculate saturation and isoquality lines. Input ranges are discarded.\n",
      "  warnings.warn(\n",
      "C:\\Users\\mario\\anaconda_v3\\Lib\\site-packages\\CoolProp\\Plots\\Plots.py:217: UserWarning: Detected an incomplete phase envelope, fixing it numerically.\n",
      "  warnings.warn(\"Detected an incomplete phase envelope, fixing it numerically.\")\n"
     ]
    },
    {
     "name": "stdout",
     "output_type": "stream",
     "text": [
      "2023-12-07 18:00:00 2023-12-08 14:00:00\n"
     ]
    },
    {
     "name": "stderr",
     "output_type": "stream",
     "text": [
      "C:\\Users\\mario\\anaconda_v3\\Lib\\site-packages\\CoolProp\\Plots\\Common.py:608: UserWarning: Please use \"calc_sat_range\" to calculate saturation and isoquality lines. Input ranges are discarded.\n",
      "  warnings.warn(\n",
      "C:\\Users\\mario\\anaconda_v3\\Lib\\site-packages\\CoolProp\\Plots\\Plots.py:217: UserWarning: Detected an incomplete phase envelope, fixing it numerically.\n",
      "  warnings.warn(\"Detected an incomplete phase envelope, fixing it numerically.\")\n"
     ]
    },
    {
     "name": "stdout",
     "output_type": "stream",
     "text": [
      "2023-12-07 19:00:00 2023-12-08 14:00:00\n"
     ]
    },
    {
     "name": "stderr",
     "output_type": "stream",
     "text": [
      "C:\\Users\\mario\\anaconda_v3\\Lib\\site-packages\\CoolProp\\Plots\\Common.py:608: UserWarning: Please use \"calc_sat_range\" to calculate saturation and isoquality lines. Input ranges are discarded.\n",
      "  warnings.warn(\n",
      "C:\\Users\\mario\\anaconda_v3\\Lib\\site-packages\\CoolProp\\Plots\\Plots.py:217: UserWarning: Detected an incomplete phase envelope, fixing it numerically.\n",
      "  warnings.warn(\"Detected an incomplete phase envelope, fixing it numerically.\")\n"
     ]
    },
    {
     "name": "stdout",
     "output_type": "stream",
     "text": [
      "2023-12-07 20:00:00 2023-12-08 14:00:00\n"
     ]
    },
    {
     "name": "stderr",
     "output_type": "stream",
     "text": [
      "C:\\Users\\mario\\anaconda_v3\\Lib\\site-packages\\CoolProp\\Plots\\Common.py:608: UserWarning: Please use \"calc_sat_range\" to calculate saturation and isoquality lines. Input ranges are discarded.\n",
      "  warnings.warn(\n",
      "C:\\Users\\mario\\anaconda_v3\\Lib\\site-packages\\CoolProp\\Plots\\Plots.py:217: UserWarning: Detected an incomplete phase envelope, fixing it numerically.\n",
      "  warnings.warn(\"Detected an incomplete phase envelope, fixing it numerically.\")\n"
     ]
    },
    {
     "name": "stdout",
     "output_type": "stream",
     "text": [
      "2023-12-07 21:00:00 2023-12-08 14:00:00\n"
     ]
    },
    {
     "name": "stderr",
     "output_type": "stream",
     "text": [
      "C:\\Users\\mario\\anaconda_v3\\Lib\\site-packages\\CoolProp\\Plots\\Common.py:608: UserWarning: Please use \"calc_sat_range\" to calculate saturation and isoquality lines. Input ranges are discarded.\n",
      "  warnings.warn(\n",
      "C:\\Users\\mario\\anaconda_v3\\Lib\\site-packages\\CoolProp\\Plots\\Plots.py:217: UserWarning: Detected an incomplete phase envelope, fixing it numerically.\n",
      "  warnings.warn(\"Detected an incomplete phase envelope, fixing it numerically.\")\n"
     ]
    },
    {
     "name": "stdout",
     "output_type": "stream",
     "text": [
      "2023-12-07 22:00:00 2023-12-08 14:00:00\n"
     ]
    },
    {
     "name": "stderr",
     "output_type": "stream",
     "text": [
      "C:\\Users\\mario\\anaconda_v3\\Lib\\site-packages\\CoolProp\\Plots\\Common.py:608: UserWarning: Please use \"calc_sat_range\" to calculate saturation and isoquality lines. Input ranges are discarded.\n",
      "  warnings.warn(\n",
      "C:\\Users\\mario\\anaconda_v3\\Lib\\site-packages\\CoolProp\\Plots\\Plots.py:217: UserWarning: Detected an incomplete phase envelope, fixing it numerically.\n",
      "  warnings.warn(\"Detected an incomplete phase envelope, fixing it numerically.\")\n"
     ]
    },
    {
     "name": "stdout",
     "output_type": "stream",
     "text": [
      "2023-12-07 23:00:00 2023-12-08 14:00:00\n"
     ]
    },
    {
     "name": "stderr",
     "output_type": "stream",
     "text": [
      "C:\\Users\\mario\\anaconda_v3\\Lib\\site-packages\\CoolProp\\Plots\\Common.py:608: UserWarning: Please use \"calc_sat_range\" to calculate saturation and isoquality lines. Input ranges are discarded.\n",
      "  warnings.warn(\n",
      "C:\\Users\\mario\\anaconda_v3\\Lib\\site-packages\\CoolProp\\Plots\\Plots.py:217: UserWarning: Detected an incomplete phase envelope, fixing it numerically.\n",
      "  warnings.warn(\"Detected an incomplete phase envelope, fixing it numerically.\")\n"
     ]
    },
    {
     "name": "stdout",
     "output_type": "stream",
     "text": [
      "2023-12-08 00:00:00 2023-12-08 14:00:00\n"
     ]
    },
    {
     "name": "stderr",
     "output_type": "stream",
     "text": [
      "C:\\Users\\mario\\anaconda_v3\\Lib\\site-packages\\CoolProp\\Plots\\Common.py:608: UserWarning: Please use \"calc_sat_range\" to calculate saturation and isoquality lines. Input ranges are discarded.\n",
      "  warnings.warn(\n",
      "C:\\Users\\mario\\anaconda_v3\\Lib\\site-packages\\CoolProp\\Plots\\Plots.py:217: UserWarning: Detected an incomplete phase envelope, fixing it numerically.\n",
      "  warnings.warn(\"Detected an incomplete phase envelope, fixing it numerically.\")\n"
     ]
    },
    {
     "name": "stdout",
     "output_type": "stream",
     "text": [
      "2023-12-08 01:00:00 2023-12-08 14:00:00\n"
     ]
    },
    {
     "name": "stderr",
     "output_type": "stream",
     "text": [
      "C:\\Users\\mario\\anaconda_v3\\Lib\\site-packages\\CoolProp\\Plots\\Common.py:608: UserWarning: Please use \"calc_sat_range\" to calculate saturation and isoquality lines. Input ranges are discarded.\n",
      "  warnings.warn(\n",
      "C:\\Users\\mario\\anaconda_v3\\Lib\\site-packages\\CoolProp\\Plots\\Plots.py:217: UserWarning: Detected an incomplete phase envelope, fixing it numerically.\n",
      "  warnings.warn(\"Detected an incomplete phase envelope, fixing it numerically.\")\n"
     ]
    },
    {
     "name": "stdout",
     "output_type": "stream",
     "text": [
      "2023-12-08 02:00:00 2023-12-08 14:00:00\n"
     ]
    },
    {
     "name": "stderr",
     "output_type": "stream",
     "text": [
      "C:\\Users\\mario\\anaconda_v3\\Lib\\site-packages\\CoolProp\\Plots\\Common.py:608: UserWarning: Please use \"calc_sat_range\" to calculate saturation and isoquality lines. Input ranges are discarded.\n",
      "  warnings.warn(\n",
      "C:\\Users\\mario\\anaconda_v3\\Lib\\site-packages\\CoolProp\\Plots\\Plots.py:217: UserWarning: Detected an incomplete phase envelope, fixing it numerically.\n",
      "  warnings.warn(\"Detected an incomplete phase envelope, fixing it numerically.\")\n"
     ]
    },
    {
     "name": "stdout",
     "output_type": "stream",
     "text": [
      "2023-12-08 03:00:00 2023-12-08 14:00:00\n"
     ]
    },
    {
     "name": "stderr",
     "output_type": "stream",
     "text": [
      "C:\\Users\\mario\\anaconda_v3\\Lib\\site-packages\\CoolProp\\Plots\\Common.py:608: UserWarning: Please use \"calc_sat_range\" to calculate saturation and isoquality lines. Input ranges are discarded.\n",
      "  warnings.warn(\n",
      "C:\\Users\\mario\\anaconda_v3\\Lib\\site-packages\\CoolProp\\Plots\\Plots.py:217: UserWarning: Detected an incomplete phase envelope, fixing it numerically.\n",
      "  warnings.warn(\"Detected an incomplete phase envelope, fixing it numerically.\")\n"
     ]
    },
    {
     "name": "stdout",
     "output_type": "stream",
     "text": [
      "2023-12-08 04:00:00 2023-12-08 14:00:00\n"
     ]
    },
    {
     "name": "stderr",
     "output_type": "stream",
     "text": [
      "C:\\Users\\mario\\anaconda_v3\\Lib\\site-packages\\CoolProp\\Plots\\Common.py:608: UserWarning: Please use \"calc_sat_range\" to calculate saturation and isoquality lines. Input ranges are discarded.\n",
      "  warnings.warn(\n",
      "C:\\Users\\mario\\anaconda_v3\\Lib\\site-packages\\CoolProp\\Plots\\Plots.py:217: UserWarning: Detected an incomplete phase envelope, fixing it numerically.\n",
      "  warnings.warn(\"Detected an incomplete phase envelope, fixing it numerically.\")\n"
     ]
    },
    {
     "name": "stdout",
     "output_type": "stream",
     "text": [
      "2023-12-08 05:00:00 2023-12-08 14:00:00\n"
     ]
    },
    {
     "name": "stderr",
     "output_type": "stream",
     "text": [
      "C:\\Users\\mario\\anaconda_v3\\Lib\\site-packages\\CoolProp\\Plots\\Common.py:608: UserWarning: Please use \"calc_sat_range\" to calculate saturation and isoquality lines. Input ranges are discarded.\n",
      "  warnings.warn(\n",
      "C:\\Users\\mario\\anaconda_v3\\Lib\\site-packages\\CoolProp\\Plots\\Plots.py:217: UserWarning: Detected an incomplete phase envelope, fixing it numerically.\n",
      "  warnings.warn(\"Detected an incomplete phase envelope, fixing it numerically.\")\n"
     ]
    },
    {
     "name": "stdout",
     "output_type": "stream",
     "text": [
      "2023-12-08 06:00:00 2023-12-08 14:00:00\n"
     ]
    },
    {
     "name": "stderr",
     "output_type": "stream",
     "text": [
      "C:\\Users\\mario\\anaconda_v3\\Lib\\site-packages\\CoolProp\\Plots\\Common.py:608: UserWarning: Please use \"calc_sat_range\" to calculate saturation and isoquality lines. Input ranges are discarded.\n",
      "  warnings.warn(\n",
      "C:\\Users\\mario\\anaconda_v3\\Lib\\site-packages\\CoolProp\\Plots\\Plots.py:217: UserWarning: Detected an incomplete phase envelope, fixing it numerically.\n",
      "  warnings.warn(\"Detected an incomplete phase envelope, fixing it numerically.\")\n"
     ]
    },
    {
     "name": "stdout",
     "output_type": "stream",
     "text": [
      "2023-12-08 07:00:00 2023-12-08 14:00:00\n"
     ]
    },
    {
     "name": "stderr",
     "output_type": "stream",
     "text": [
      "C:\\Users\\mario\\anaconda_v3\\Lib\\site-packages\\CoolProp\\Plots\\Common.py:608: UserWarning: Please use \"calc_sat_range\" to calculate saturation and isoquality lines. Input ranges are discarded.\n",
      "  warnings.warn(\n",
      "C:\\Users\\mario\\anaconda_v3\\Lib\\site-packages\\CoolProp\\Plots\\Plots.py:217: UserWarning: Detected an incomplete phase envelope, fixing it numerically.\n",
      "  warnings.warn(\"Detected an incomplete phase envelope, fixing it numerically.\")\n"
     ]
    },
    {
     "name": "stdout",
     "output_type": "stream",
     "text": [
      "2023-12-08 08:00:00 2023-12-08 14:00:00\n"
     ]
    },
    {
     "name": "stderr",
     "output_type": "stream",
     "text": [
      "C:\\Users\\mario\\anaconda_v3\\Lib\\site-packages\\CoolProp\\Plots\\Common.py:608: UserWarning: Please use \"calc_sat_range\" to calculate saturation and isoquality lines. Input ranges are discarded.\n",
      "  warnings.warn(\n",
      "C:\\Users\\mario\\anaconda_v3\\Lib\\site-packages\\CoolProp\\Plots\\Plots.py:217: UserWarning: Detected an incomplete phase envelope, fixing it numerically.\n",
      "  warnings.warn(\"Detected an incomplete phase envelope, fixing it numerically.\")\n"
     ]
    },
    {
     "name": "stdout",
     "output_type": "stream",
     "text": [
      "2023-12-08 09:00:00 2023-12-08 14:00:00\n"
     ]
    },
    {
     "name": "stderr",
     "output_type": "stream",
     "text": [
      "C:\\Users\\mario\\anaconda_v3\\Lib\\site-packages\\CoolProp\\Plots\\Common.py:608: UserWarning: Please use \"calc_sat_range\" to calculate saturation and isoquality lines. Input ranges are discarded.\n",
      "  warnings.warn(\n",
      "C:\\Users\\mario\\anaconda_v3\\Lib\\site-packages\\CoolProp\\Plots\\Plots.py:217: UserWarning: Detected an incomplete phase envelope, fixing it numerically.\n",
      "  warnings.warn(\"Detected an incomplete phase envelope, fixing it numerically.\")\n"
     ]
    },
    {
     "name": "stdout",
     "output_type": "stream",
     "text": [
      "2023-12-08 10:00:00 2023-12-08 14:00:00\n"
     ]
    },
    {
     "name": "stderr",
     "output_type": "stream",
     "text": [
      "C:\\Users\\mario\\anaconda_v3\\Lib\\site-packages\\CoolProp\\Plots\\Common.py:608: UserWarning: Please use \"calc_sat_range\" to calculate saturation and isoquality lines. Input ranges are discarded.\n",
      "  warnings.warn(\n",
      "C:\\Users\\mario\\anaconda_v3\\Lib\\site-packages\\CoolProp\\Plots\\Plots.py:217: UserWarning: Detected an incomplete phase envelope, fixing it numerically.\n",
      "  warnings.warn(\"Detected an incomplete phase envelope, fixing it numerically.\")\n"
     ]
    },
    {
     "name": "stdout",
     "output_type": "stream",
     "text": [
      "2023-12-08 11:00:00 2023-12-08 14:00:00\n"
     ]
    },
    {
     "name": "stderr",
     "output_type": "stream",
     "text": [
      "C:\\Users\\mario\\anaconda_v3\\Lib\\site-packages\\CoolProp\\Plots\\Common.py:608: UserWarning: Please use \"calc_sat_range\" to calculate saturation and isoquality lines. Input ranges are discarded.\n",
      "  warnings.warn(\n",
      "C:\\Users\\mario\\anaconda_v3\\Lib\\site-packages\\CoolProp\\Plots\\Plots.py:217: UserWarning: Detected an incomplete phase envelope, fixing it numerically.\n",
      "  warnings.warn(\"Detected an incomplete phase envelope, fixing it numerically.\")\n"
     ]
    },
    {
     "name": "stdout",
     "output_type": "stream",
     "text": [
      "2023-12-08 12:00:00 2023-12-08 14:00:00\n"
     ]
    },
    {
     "name": "stderr",
     "output_type": "stream",
     "text": [
      "C:\\Users\\mario\\anaconda_v3\\Lib\\site-packages\\CoolProp\\Plots\\Common.py:608: UserWarning: Please use \"calc_sat_range\" to calculate saturation and isoquality lines. Input ranges are discarded.\n",
      "  warnings.warn(\n",
      "C:\\Users\\mario\\anaconda_v3\\Lib\\site-packages\\CoolProp\\Plots\\Plots.py:217: UserWarning: Detected an incomplete phase envelope, fixing it numerically.\n",
      "  warnings.warn(\"Detected an incomplete phase envelope, fixing it numerically.\")\n"
     ]
    },
    {
     "name": "stdout",
     "output_type": "stream",
     "text": [
      "2023-12-08 13:00:00 2023-12-08 14:00:00\n"
     ]
    },
    {
     "name": "stderr",
     "output_type": "stream",
     "text": [
      "C:\\Users\\mario\\anaconda_v3\\Lib\\site-packages\\CoolProp\\Plots\\Common.py:608: UserWarning: Please use \"calc_sat_range\" to calculate saturation and isoquality lines. Input ranges are discarded.\n",
      "  warnings.warn(\n",
      "C:\\Users\\mario\\anaconda_v3\\Lib\\site-packages\\CoolProp\\Plots\\Plots.py:217: UserWarning: Detected an incomplete phase envelope, fixing it numerically.\n",
      "  warnings.warn(\"Detected an incomplete phase envelope, fixing it numerically.\")\n"
     ]
    },
    {
     "name": "stdout",
     "output_type": "stream",
     "text": [
      "2023-12-08 14:00:00 2023-12-08 14:00:00\n"
     ]
    },
    {
     "name": "stderr",
     "output_type": "stream",
     "text": [
      "C:\\Users\\mario\\anaconda_v3\\Lib\\site-packages\\CoolProp\\Plots\\Common.py:608: UserWarning: Please use \"calc_sat_range\" to calculate saturation and isoquality lines. Input ranges are discarded.\n",
      "  warnings.warn(\n",
      "C:\\Users\\mario\\anaconda_v3\\Lib\\site-packages\\CoolProp\\Plots\\Plots.py:217: UserWarning: Detected an incomplete phase envelope, fixing it numerically.\n",
      "  warnings.warn(\"Detected an incomplete phase envelope, fixing it numerically.\")\n"
     ]
    }
   ],
   "source": [
    "for i in range(len(cycle)): #\n",
    "    print(str(cycle.index[i]), str(cycle.index[-1]))\n",
    "    pp = PropertyPlot('CO2', 'PH', unit_system='EUR')\n",
    "    \n",
    "    pp.title(str(cycle.index[i]))\n",
    "    pp.calc_isolines(CoolProp.iQ, num=11)\n",
    "    pp.calc_isolines(CoolProp.iT, [cycle['T_ext'][i] -273.15], num=1)\n",
    "    pp.props[CoolProp.iT]['color'] = 'black'\n",
    "    pp.props[CoolProp.iT]['lw'] = '2'\n",
    "    \n",
    "    pp.draw()\n",
    "    pp.isolines.clear()\n",
    "    \n",
    "    pp.props[CoolProp.iT]['color'] = 'black'\n",
    "    pp.props[CoolProp.iT]['lw'] = '0.1'\n",
    "    pp.calc_isolines(CoolProp.iT, num=100)\n",
    "    \n",
    "    x = [\n",
    "        cycle['H1_L1'][i],\n",
    "        cycle['H2_L1'][i],\n",
    "        cycle['H3_L1'][i],\n",
    "        cycle['H4_L1'][i],\n",
    "        cycle['H5_L1'][i],\n",
    "        cycle['H7_L1'][i],\n",
    "        cycle['H8_L1'][i],\n",
    "        cycle['H6_L1'][i],\n",
    "        cycle['H4_L1'][i],\n",
    "        cycle['H6_L1'][i],\n",
    "        cycle['H8_L1'][i],\n",
    "        cycle['H9_L1'][i],\n",
    "        cycle['H1_L1'][i],\n",
    "    ]\n",
    "    y = [\n",
    "        cycle['P1_L1'][i],\n",
    "        cycle['P2_L1'][i],\n",
    "        cycle['P3_L1'][i],\n",
    "        cycle['P4_L1'][i],\n",
    "        cycle['P5_L1'][i],\n",
    "        cycle['P7_L1'][i],\n",
    "        cycle['P8_L1'][i],\n",
    "        cycle['P6_L1'][i],\n",
    "        cycle['P4_L1'][i],\n",
    "        cycle['P6_L1'][i],\n",
    "        cycle['P8_L1'][i],\n",
    "        cycle['P9_L1'][i],\n",
    "        cycle['P1_L1'][i],\n",
    "    ]\n",
    "    \n",
    "    x = [a/10**3 for a in x]\n",
    "    y = [a/10**5 for a in y]\n",
    "    \n",
    "    plt.plot(x, y, 'r-o')\n",
    "    \n",
    "    x = [\n",
    "        cycle['H1_L2'][i],\n",
    "        cycle['H2_L2'][i],\n",
    "        cycle['H3_L2'][i],\n",
    "        cycle['H7_L2'][i],\n",
    "        cycle['H9_L2'][i],\n",
    "        cycle['H1_L2'][i],\n",
    "    ]\n",
    "    y = [\n",
    "        cycle['P1_L2'][i],\n",
    "        cycle['P2_L2'][i],\n",
    "        cycle['P3_L2'][i],\n",
    "        cycle['P7_L2'][i],\n",
    "        cycle['P9_L2'][i],\n",
    "        cycle['P1_L2'][i],\n",
    "    ]\n",
    "    \n",
    "    x = [a/10**3 for a in x]\n",
    "    y = [a/10**5 for a in y]\n",
    "    \n",
    "    plt.plot(x, y, 'b-o')    \n",
    "    \n",
    "    \n",
    "    plt.xlim(100, 650)\n",
    "    plt.ylim(5, 150)\n",
    "\n",
    "    #pp.show()\n",
    "    pp.savefig(f'save/img_{i}.jpg', dpi=110)\n",
    "    plt.close()"
   ]
  },
  {
   "cell_type": "code",
   "execution_count": 16,
   "id": "d69d17a5-a705-4486-8b93-5630cb945b7f",
   "metadata": {},
   "outputs": [],
   "source": [
    "image_folder = 'save'\n",
    "video_name = 'video.avi'\n",
    "\n",
    "images = [img for img in os.listdir(image_folder) if img.endswith(\".jpg\")]\n",
    "frame = cv2.imread(os.path.join(image_folder, images[0]))\n",
    "height, width, layers = frame.shape\n",
    "\n",
    "video = cv2.VideoWriter(video_name, 0, 12, (width,height))\n",
    "\n",
    "for image in images:\n",
    "    video.write(cv2.imread(os.path.join(image_folder, image)))\n",
    "\n",
    "cv2.destroyAllWindows()\n",
    "video.release()"
   ]
  },
  {
   "cell_type": "code",
   "execution_count": null,
   "id": "10050d92-bec8-4277-a95e-b3bce710c835",
   "metadata": {},
   "outputs": [],
   "source": []
  }
 ],
 "metadata": {
  "kernelspec": {
   "display_name": "Python 3 (ipykernel)",
   "language": "python",
   "name": "python3"
  },
  "language_info": {
   "codemirror_mode": {
    "name": "ipython",
    "version": 3
   },
   "file_extension": ".py",
   "mimetype": "text/x-python",
   "name": "python",
   "nbconvert_exporter": "python",
   "pygments_lexer": "ipython3",
   "version": "3.11.5"
  }
 },
 "nbformat": 4,
 "nbformat_minor": 5
}
